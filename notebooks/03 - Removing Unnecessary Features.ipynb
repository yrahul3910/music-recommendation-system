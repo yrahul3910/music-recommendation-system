{
 "cells": [
  {
   "cell_type": "code",
   "execution_count": 1,
   "metadata": {
    "collapsed": true
   },
   "outputs": [],
   "source": [
    "import pandas as pd\n",
    "import h5py\n",
    "%matplotlib inline"
   ]
  },
  {
   "cell_type": "code",
   "execution_count": 2,
   "metadata": {
    "collapsed": true
   },
   "outputs": [],
   "source": [
    "import glob\n",
    "import os"
   ]
  },
  {
   "cell_type": "code",
   "execution_count": 6,
   "metadata": {
    "collapsed": false
   },
   "outputs": [],
   "source": [
    "store = pd.HDFStore(\"../data/MillionSongSubset/AdditionalFiles/subset_msd_summary_file.h5\")\n",
    "df = store.select(\"/analysis/songs\")"
   ]
  },
  {
   "cell_type": "code",
   "execution_count": 7,
   "metadata": {
    "collapsed": false
   },
   "outputs": [
    {
     "data": {
      "text/html": [
       "<div>\n",
       "<table border=\"1\" class=\"dataframe\">\n",
       "  <thead>\n",
       "    <tr style=\"text-align: right;\">\n",
       "      <th></th>\n",
       "      <th>analysis_sample_rate</th>\n",
       "      <th>audio_md5</th>\n",
       "      <th>danceability</th>\n",
       "      <th>duration</th>\n",
       "      <th>end_of_fade_in</th>\n",
       "      <th>energy</th>\n",
       "      <th>idx_bars_confidence</th>\n",
       "      <th>idx_bars_start</th>\n",
       "      <th>idx_beats_confidence</th>\n",
       "      <th>idx_beats_start</th>\n",
       "      <th>...</th>\n",
       "      <th>key</th>\n",
       "      <th>key_confidence</th>\n",
       "      <th>loudness</th>\n",
       "      <th>mode</th>\n",
       "      <th>mode_confidence</th>\n",
       "      <th>start_of_fade_out</th>\n",
       "      <th>tempo</th>\n",
       "      <th>time_signature</th>\n",
       "      <th>time_signature_confidence</th>\n",
       "      <th>track_id</th>\n",
       "    </tr>\n",
       "  </thead>\n",
       "  <tbody>\n",
       "    <tr>\n",
       "      <th>0</th>\n",
       "      <td>22050</td>\n",
       "      <td>a600d65cf157a306be60f26ecbf218f4</td>\n",
       "      <td>0</td>\n",
       "      <td>280.21506</td>\n",
       "      <td>0.238</td>\n",
       "      <td>0</td>\n",
       "      <td>0</td>\n",
       "      <td>0</td>\n",
       "      <td>0</td>\n",
       "      <td>0</td>\n",
       "      <td>...</td>\n",
       "      <td>5</td>\n",
       "      <td>0.555</td>\n",
       "      <td>-3.306</td>\n",
       "      <td>1</td>\n",
       "      <td>0.50</td>\n",
       "      <td>275.528</td>\n",
       "      <td>173.205</td>\n",
       "      <td>5</td>\n",
       "      <td>0.12</td>\n",
       "      <td>TRACCVZ128F4291A8A</td>\n",
       "    </tr>\n",
       "    <tr>\n",
       "      <th>1</th>\n",
       "      <td>22050</td>\n",
       "      <td>c64d75b0588e5ab552ee94548b50a4fa</td>\n",
       "      <td>0</td>\n",
       "      <td>191.68608</td>\n",
       "      <td>0.000</td>\n",
       "      <td>0</td>\n",
       "      <td>0</td>\n",
       "      <td>0</td>\n",
       "      <td>0</td>\n",
       "      <td>0</td>\n",
       "      <td>...</td>\n",
       "      <td>0</td>\n",
       "      <td>0.501</td>\n",
       "      <td>-10.764</td>\n",
       "      <td>1</td>\n",
       "      <td>0.71</td>\n",
       "      <td>184.128</td>\n",
       "      <td>150.955</td>\n",
       "      <td>4</td>\n",
       "      <td>0.60</td>\n",
       "      <td>TRACCMH128F428E4CD</td>\n",
       "    </tr>\n",
       "  </tbody>\n",
       "</table>\n",
       "<p>2 rows × 31 columns</p>\n",
       "</div>"
      ],
      "text/plain": [
       "   analysis_sample_rate                         audio_md5  danceability  \\\n",
       "0                 22050  a600d65cf157a306be60f26ecbf218f4             0   \n",
       "1                 22050  c64d75b0588e5ab552ee94548b50a4fa             0   \n",
       "\n",
       "    duration  end_of_fade_in  energy  idx_bars_confidence  idx_bars_start  \\\n",
       "0  280.21506           0.238       0                    0               0   \n",
       "1  191.68608           0.000       0                    0               0   \n",
       "\n",
       "   idx_beats_confidence  idx_beats_start         ...          key  \\\n",
       "0                     0                0         ...            5   \n",
       "1                     0                0         ...            0   \n",
       "\n",
       "   key_confidence  loudness  mode  mode_confidence  start_of_fade_out  \\\n",
       "0           0.555    -3.306     1             0.50            275.528   \n",
       "1           0.501   -10.764     1             0.71            184.128   \n",
       "\n",
       "     tempo  time_signature  time_signature_confidence            track_id  \n",
       "0  173.205               5                       0.12  TRACCVZ128F4291A8A  \n",
       "1  150.955               4                       0.60  TRACCMH128F428E4CD  \n",
       "\n",
       "[2 rows x 31 columns]"
      ]
     },
     "execution_count": 7,
     "metadata": {},
     "output_type": "execute_result"
    }
   ],
   "source": [
    "df[:2]"
   ]
  },
  {
   "cell_type": "code",
   "execution_count": 8,
   "metadata": {
    "collapsed": false
   },
   "outputs": [
    {
     "name": "stdout",
     "output_type": "stream",
     "text": [
      "<class 'pandas.core.frame.DataFrame'>\n",
      "Int64Index: 10000 entries, 0 to 9999\n",
      "Data columns (total 31 columns):\n",
      "analysis_sample_rate              10000 non-null int32\n",
      "audio_md5                         10000 non-null object\n",
      "danceability                      10000 non-null float64\n",
      "duration                          10000 non-null float64\n",
      "end_of_fade_in                    10000 non-null float64\n",
      "energy                            10000 non-null float64\n",
      "idx_bars_confidence               10000 non-null int32\n",
      "idx_bars_start                    10000 non-null int32\n",
      "idx_beats_confidence              10000 non-null int32\n",
      "idx_beats_start                   10000 non-null int32\n",
      "idx_sections_confidence           10000 non-null int32\n",
      "idx_sections_start                10000 non-null int32\n",
      "idx_segments_confidence           10000 non-null int32\n",
      "idx_segments_loudness_max         10000 non-null int32\n",
      "idx_segments_loudness_max_time    10000 non-null int32\n",
      "idx_segments_loudness_start       10000 non-null int32\n",
      "idx_segments_pitches              10000 non-null int32\n",
      "idx_segments_start                10000 non-null int32\n",
      "idx_segments_timbre               10000 non-null int32\n",
      "idx_tatums_confidence             10000 non-null int32\n",
      "idx_tatums_start                  10000 non-null int32\n",
      "key                               10000 non-null int32\n",
      "key_confidence                    10000 non-null float64\n",
      "loudness                          10000 non-null float64\n",
      "mode                              10000 non-null int32\n",
      "mode_confidence                   10000 non-null float64\n",
      "start_of_fade_out                 10000 non-null float64\n",
      "tempo                             10000 non-null float64\n",
      "time_signature                    10000 non-null int32\n",
      "time_signature_confidence         10000 non-null float64\n",
      "track_id                          10000 non-null object\n",
      "dtypes: float64(10), int32(19), object(2)\n",
      "memory usage: 1.7+ MB\n"
     ]
    }
   ],
   "source": [
    "df.info()"
   ]
  },
  {
   "cell_type": "code",
   "execution_count": 9,
   "metadata": {
    "collapsed": false
   },
   "outputs": [
    {
     "data": {
      "text/plain": [
       "<class 'pandas.io.pytables.HDFStore'>\n",
       "File path: ../data/MillionSongSubset/AdditionalFiles/subset_msd_summary_file.h5\n",
       "/analysis/songs               frame_table [0.0.0] (typ->generic,nrows->10000,ncols->31,indexers->[index],dc->[analysis_sample_rate,audio_md5,danceability,duration,end_of_fade_in,energy,idx_bars_confidence,idx_bars_start,idx_beats_confidence,idx_beats_start,idx_sections_confidence,idx_sections_start,idx_segments_confidence,idx_segments_loudness_max,idx_segments_loudness_max_time,idx_segments_loudness_start,idx_segments_pitches,idx_segments_start,idx_segments_timbre,idx_tatums_confidence,idx_tatums_start,key,key_confidence,loudness,mode,mode_confidence,start_of_fade_out,tempo,time_signature,time_signature_confidence,track_id])\n",
       "/metadata/songs               frame_table [0.0.0] (typ->generic,nrows->10000,ncols->20,indexers->[index],dc->[analyzer_version,artist_7digitalid,artist_familiarity,artist_hotttnesss,artist_id,artist_latitude,artist_location,artist_longitude,artist_mbid,artist_name,artist_playmeid,genre,idx_artist_terms,idx_similar_artists,release,release_7digitalid,song_hotttnesss,song_id,title,track_7digitalid])                                                                                                                                                                                                                                         \n",
       "/musicbrainz/songs            frame_table [0.0.0] (typ->generic,nrows->10000,ncols->2,indexers->[index],dc->[idx_artist_mbtags,year])                                                                                                                                                                                                                                                                                                                                                                                                                                                                                                                   "
      ]
     },
     "execution_count": 9,
     "metadata": {},
     "output_type": "execute_result"
    }
   ],
   "source": [
    "store"
   ]
  },
  {
   "cell_type": "code",
   "execution_count": 10,
   "metadata": {
    "collapsed": false
   },
   "outputs": [
    {
     "data": {
      "text/html": [
       "<div>\n",
       "<table border=\"1\" class=\"dataframe\">\n",
       "  <thead>\n",
       "    <tr style=\"text-align: right;\">\n",
       "      <th></th>\n",
       "      <th>analyzer_version</th>\n",
       "      <th>artist_7digitalid</th>\n",
       "      <th>artist_familiarity</th>\n",
       "      <th>artist_hotttnesss</th>\n",
       "      <th>artist_id</th>\n",
       "      <th>artist_latitude</th>\n",
       "      <th>artist_location</th>\n",
       "      <th>artist_longitude</th>\n",
       "      <th>artist_mbid</th>\n",
       "      <th>artist_name</th>\n",
       "      <th>artist_playmeid</th>\n",
       "      <th>genre</th>\n",
       "      <th>idx_artist_terms</th>\n",
       "      <th>idx_similar_artists</th>\n",
       "      <th>release</th>\n",
       "      <th>release_7digitalid</th>\n",
       "      <th>song_hotttnesss</th>\n",
       "      <th>song_id</th>\n",
       "      <th>title</th>\n",
       "      <th>track_7digitalid</th>\n",
       "    </tr>\n",
       "  </thead>\n",
       "  <tbody>\n",
       "    <tr>\n",
       "      <th>0</th>\n",
       "      <td></td>\n",
       "      <td>29785</td>\n",
       "      <td>0.780462</td>\n",
       "      <td>0.574275</td>\n",
       "      <td>ARMQHX71187B9890D3</td>\n",
       "      <td>NaN</td>\n",
       "      <td>Atlanta, GA</td>\n",
       "      <td>NaN</td>\n",
       "      <td>bc5e2ad6-0a4a-4d90-b911-e9a7e6861727</td>\n",
       "      <td>Mastodon</td>\n",
       "      <td>-1</td>\n",
       "      <td></td>\n",
       "      <td>0</td>\n",
       "      <td>0</td>\n",
       "      <td>Call of the Mastodon</td>\n",
       "      <td>223563</td>\n",
       "      <td>0.597641</td>\n",
       "      <td>SOVLGJY12A8C13FBED</td>\n",
       "      <td>Deep Sea Creature</td>\n",
       "      <td>2442524</td>\n",
       "    </tr>\n",
       "    <tr>\n",
       "      <th>1</th>\n",
       "      <td></td>\n",
       "      <td>167867</td>\n",
       "      <td>0.561590</td>\n",
       "      <td>0.420570</td>\n",
       "      <td>AR2PT4M1187FB55B1A</td>\n",
       "      <td>NaN</td>\n",
       "      <td></td>\n",
       "      <td>NaN</td>\n",
       "      <td>d54ea4a6-0b9c-4e47-bed0-289ae9ff4037</td>\n",
       "      <td>Los Chichos</td>\n",
       "      <td>1880</td>\n",
       "      <td></td>\n",
       "      <td>0</td>\n",
       "      <td>0</td>\n",
       "      <td>Adelante</td>\n",
       "      <td>221677</td>\n",
       "      <td>NaN</td>\n",
       "      <td>SOGDQZK12A8C13F37C</td>\n",
       "      <td>No Quieras Marcharte</td>\n",
       "      <td>2423472</td>\n",
       "    </tr>\n",
       "  </tbody>\n",
       "</table>\n",
       "</div>"
      ],
      "text/plain": [
       "  analyzer_version  artist_7digitalid  artist_familiarity  artist_hotttnesss  \\\n",
       "0                               29785            0.780462           0.574275   \n",
       "1                              167867            0.561590           0.420570   \n",
       "\n",
       "            artist_id  artist_latitude artist_location  artist_longitude  \\\n",
       "0  ARMQHX71187B9890D3              NaN     Atlanta, GA               NaN   \n",
       "1  AR2PT4M1187FB55B1A              NaN                               NaN   \n",
       "\n",
       "                            artist_mbid  artist_name  artist_playmeid genre  \\\n",
       "0  bc5e2ad6-0a4a-4d90-b911-e9a7e6861727     Mastodon               -1         \n",
       "1  d54ea4a6-0b9c-4e47-bed0-289ae9ff4037  Los Chichos             1880         \n",
       "\n",
       "   idx_artist_terms  idx_similar_artists               release  \\\n",
       "0                 0                    0  Call of the Mastodon   \n",
       "1                 0                    0              Adelante   \n",
       "\n",
       "   release_7digitalid  song_hotttnesss             song_id  \\\n",
       "0              223563         0.597641  SOVLGJY12A8C13FBED   \n",
       "1              221677              NaN  SOGDQZK12A8C13F37C   \n",
       "\n",
       "                  title  track_7digitalid  \n",
       "0     Deep Sea Creature           2442524  \n",
       "1  No Quieras Marcharte           2423472  "
      ]
     },
     "execution_count": 10,
     "metadata": {},
     "output_type": "execute_result"
    }
   ],
   "source": [
    "metadata_df = store.select(\"/metadata/songs\")\n",
    "metadata_df[:2]"
   ]
  },
  {
   "cell_type": "code",
   "execution_count": null,
   "metadata": {
    "collapsed": true
   },
   "outputs": [],
   "source": []
  }
 ],
 "metadata": {
  "kernelspec": {
   "display_name": "Python 3",
   "language": "python",
   "name": "python3"
  },
  "language_info": {
   "codemirror_mode": {
    "name": "ipython",
    "version": 3
   },
   "file_extension": ".py",
   "mimetype": "text/x-python",
   "name": "python",
   "nbconvert_exporter": "python",
   "pygments_lexer": "ipython3",
   "version": "3.5.1"
  }
 },
 "nbformat": 4,
 "nbformat_minor": 0
}
