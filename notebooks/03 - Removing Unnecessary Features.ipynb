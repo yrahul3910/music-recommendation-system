{
 "cells": [
  {
   "cell_type": "code",
   "execution_count": 1,
   "metadata": {
    "collapsed": true
   },
   "outputs": [],
   "source": [
    "import pandas as pd\n",
    "import h5py\n",
    "%matplotlib inline"
   ]
  },
  {
   "cell_type": "code",
   "execution_count": 2,
   "metadata": {
    "collapsed": true
   },
   "outputs": [],
   "source": [
    "import glob\n",
    "import os"
   ]
  },
  {
   "cell_type": "code",
   "execution_count": 6,
   "metadata": {
    "collapsed": false
   },
   "outputs": [],
   "source": [
    "store = pd.HDFStore(\"../data/MillionSongSubset/AdditionalFiles/subset_msd_summary_file.h5\")\n",
    "df = store.select(\"/analysis/songs\")"
   ]
  },
  {
   "cell_type": "code",
   "execution_count": 7,
   "metadata": {
    "collapsed": false
   },
   "outputs": [
    {
     "data": {
      "text/html": [
       "<div>\n",
       "<table border=\"1\" class=\"dataframe\">\n",
       "  <thead>\n",
       "    <tr style=\"text-align: right;\">\n",
       "      <th></th>\n",
       "      <th>analysis_sample_rate</th>\n",
       "      <th>audio_md5</th>\n",
       "      <th>danceability</th>\n",
       "      <th>duration</th>\n",
       "      <th>end_of_fade_in</th>\n",
       "      <th>energy</th>\n",
       "      <th>idx_bars_confidence</th>\n",
       "      <th>idx_bars_start</th>\n",
       "      <th>idx_beats_confidence</th>\n",
       "      <th>idx_beats_start</th>\n",
       "      <th>...</th>\n",
       "      <th>key</th>\n",
       "      <th>key_confidence</th>\n",
       "      <th>loudness</th>\n",
       "      <th>mode</th>\n",
       "      <th>mode_confidence</th>\n",
       "      <th>start_of_fade_out</th>\n",
       "      <th>tempo</th>\n",
       "      <th>time_signature</th>\n",
       "      <th>time_signature_confidence</th>\n",
       "      <th>track_id</th>\n",
       "    </tr>\n",
       "  </thead>\n",
       "  <tbody>\n",
       "    <tr>\n",
       "      <th>0</th>\n",
       "      <td>22050</td>\n",
       "      <td>a600d65cf157a306be60f26ecbf218f4</td>\n",
       "      <td>0</td>\n",
       "      <td>280.21506</td>\n",
       "      <td>0.238</td>\n",
       "      <td>0</td>\n",
       "      <td>0</td>\n",
       "      <td>0</td>\n",
       "      <td>0</td>\n",
       "      <td>0</td>\n",
       "      <td>...</td>\n",
       "      <td>5</td>\n",
       "      <td>0.555</td>\n",
       "      <td>-3.306</td>\n",
       "      <td>1</td>\n",
       "      <td>0.50</td>\n",
       "      <td>275.528</td>\n",
       "      <td>173.205</td>\n",
       "      <td>5</td>\n",
       "      <td>0.12</td>\n",
       "      <td>TRACCVZ128F4291A8A</td>\n",
       "    </tr>\n",
       "    <tr>\n",
       "      <th>1</th>\n",
       "      <td>22050</td>\n",
       "      <td>c64d75b0588e5ab552ee94548b50a4fa</td>\n",
       "      <td>0</td>\n",
       "      <td>191.68608</td>\n",
       "      <td>0.000</td>\n",
       "      <td>0</td>\n",
       "      <td>0</td>\n",
       "      <td>0</td>\n",
       "      <td>0</td>\n",
       "      <td>0</td>\n",
       "      <td>...</td>\n",
       "      <td>0</td>\n",
       "      <td>0.501</td>\n",
       "      <td>-10.764</td>\n",
       "      <td>1</td>\n",
       "      <td>0.71</td>\n",
       "      <td>184.128</td>\n",
       "      <td>150.955</td>\n",
       "      <td>4</td>\n",
       "      <td>0.60</td>\n",
       "      <td>TRACCMH128F428E4CD</td>\n",
       "    </tr>\n",
       "  </tbody>\n",
       "</table>\n",
       "<p>2 rows × 31 columns</p>\n",
       "</div>"
      ],
      "text/plain": [
       "   analysis_sample_rate                         audio_md5  danceability  \\\n",
       "0                 22050  a600d65cf157a306be60f26ecbf218f4             0   \n",
       "1                 22050  c64d75b0588e5ab552ee94548b50a4fa             0   \n",
       "\n",
       "    duration  end_of_fade_in  energy  idx_bars_confidence  idx_bars_start  \\\n",
       "0  280.21506           0.238       0                    0               0   \n",
       "1  191.68608           0.000       0                    0               0   \n",
       "\n",
       "   idx_beats_confidence  idx_beats_start         ...          key  \\\n",
       "0                     0                0         ...            5   \n",
       "1                     0                0         ...            0   \n",
       "\n",
       "   key_confidence  loudness  mode  mode_confidence  start_of_fade_out  \\\n",
       "0           0.555    -3.306     1             0.50            275.528   \n",
       "1           0.501   -10.764     1             0.71            184.128   \n",
       "\n",
       "     tempo  time_signature  time_signature_confidence            track_id  \n",
       "0  173.205               5                       0.12  TRACCVZ128F4291A8A  \n",
       "1  150.955               4                       0.60  TRACCMH128F428E4CD  \n",
       "\n",
       "[2 rows x 31 columns]"
      ]
     },
     "execution_count": 7,
     "metadata": {},
     "output_type": "execute_result"
    }
   ],
   "source": [
    "df[:2]"
   ]
  },
  {
   "cell_type": "code",
   "execution_count": 8,
   "metadata": {
    "collapsed": false
   },
   "outputs": [
    {
     "name": "stdout",
     "output_type": "stream",
     "text": [
      "<class 'pandas.core.frame.DataFrame'>\n",
      "Int64Index: 10000 entries, 0 to 9999\n",
      "Data columns (total 31 columns):\n",
      "analysis_sample_rate              10000 non-null int32\n",
      "audio_md5                         10000 non-null object\n",
      "danceability                      10000 non-null float64\n",
      "duration                          10000 non-null float64\n",
      "end_of_fade_in                    10000 non-null float64\n",
      "energy                            10000 non-null float64\n",
      "idx_bars_confidence               10000 non-null int32\n",
      "idx_bars_start                    10000 non-null int32\n",
      "idx_beats_confidence              10000 non-null int32\n",
      "idx_beats_start                   10000 non-null int32\n",
      "idx_sections_confidence           10000 non-null int32\n",
      "idx_sections_start                10000 non-null int32\n",
      "idx_segments_confidence           10000 non-null int32\n",
      "idx_segments_loudness_max         10000 non-null int32\n",
      "idx_segments_loudness_max_time    10000 non-null int32\n",
      "idx_segments_loudness_start       10000 non-null int32\n",
      "idx_segments_pitches              10000 non-null int32\n",
      "idx_segments_start                10000 non-null int32\n",
      "idx_segments_timbre               10000 non-null int32\n",
      "idx_tatums_confidence             10000 non-null int32\n",
      "idx_tatums_start                  10000 non-null int32\n",
      "key                               10000 non-null int32\n",
      "key_confidence                    10000 non-null float64\n",
      "loudness                          10000 non-null float64\n",
      "mode                              10000 non-null int32\n",
      "mode_confidence                   10000 non-null float64\n",
      "start_of_fade_out                 10000 non-null float64\n",
      "tempo                             10000 non-null float64\n",
      "time_signature                    10000 non-null int32\n",
      "time_signature_confidence         10000 non-null float64\n",
      "track_id                          10000 non-null object\n",
      "dtypes: float64(10), int32(19), object(2)\n",
      "memory usage: 1.7+ MB\n"
     ]
    }
   ],
   "source": [
    "df.info()"
   ]
  },
  {
   "cell_type": "code",
   "execution_count": 9,
   "metadata": {
    "collapsed": false
   },
   "outputs": [
    {
     "data": {
      "text/plain": [
       "<class 'pandas.io.pytables.HDFStore'>\n",
       "File path: ../data/MillionSongSubset/AdditionalFiles/subset_msd_summary_file.h5\n",
       "/analysis/songs               frame_table [0.0.0] (typ->generic,nrows->10000,ncols->31,indexers->[index],dc->[analysis_sample_rate,audio_md5,danceability,duration,end_of_fade_in,energy,idx_bars_confidence,idx_bars_start,idx_beats_confidence,idx_beats_start,idx_sections_confidence,idx_sections_start,idx_segments_confidence,idx_segments_loudness_max,idx_segments_loudness_max_time,idx_segments_loudness_start,idx_segments_pitches,idx_segments_start,idx_segments_timbre,idx_tatums_confidence,idx_tatums_start,key,key_confidence,loudness,mode,mode_confidence,start_of_fade_out,tempo,time_signature,time_signature_confidence,track_id])\n",
       "/metadata/songs               frame_table [0.0.0] (typ->generic,nrows->10000,ncols->20,indexers->[index],dc->[analyzer_version,artist_7digitalid,artist_familiarity,artist_hotttnesss,artist_id,artist_latitude,artist_location,artist_longitude,artist_mbid,artist_name,artist_playmeid,genre,idx_artist_terms,idx_similar_artists,release,release_7digitalid,song_hotttnesss,song_id,title,track_7digitalid])                                                                                                                                                                                                                                         \n",
       "/musicbrainz/songs            frame_table [0.0.0] (typ->generic,nrows->10000,ncols->2,indexers->[index],dc->[idx_artist_mbtags,year])                                                                                                                                                                                                                                                                                                                                                                                                                                                                                                                   "
      ]
     },
     "execution_count": 9,
     "metadata": {},
     "output_type": "execute_result"
    }
   ],
   "source": [
    "store"
   ]
  },
  {
   "cell_type": "code",
   "execution_count": 10,
   "metadata": {
    "collapsed": false
   },
   "outputs": [
    {
     "data": {
      "text/html": [
       "<div>\n",
       "<table border=\"1\" class=\"dataframe\">\n",
       "  <thead>\n",
       "    <tr style=\"text-align: right;\">\n",
       "      <th></th>\n",
       "      <th>analyzer_version</th>\n",
       "      <th>artist_7digitalid</th>\n",
       "      <th>artist_familiarity</th>\n",
       "      <th>artist_hotttnesss</th>\n",
       "      <th>artist_id</th>\n",
       "      <th>artist_latitude</th>\n",
       "      <th>artist_location</th>\n",
       "      <th>artist_longitude</th>\n",
       "      <th>artist_mbid</th>\n",
       "      <th>artist_name</th>\n",
       "      <th>artist_playmeid</th>\n",
       "      <th>genre</th>\n",
       "      <th>idx_artist_terms</th>\n",
       "      <th>idx_similar_artists</th>\n",
       "      <th>release</th>\n",
       "      <th>release_7digitalid</th>\n",
       "      <th>song_hotttnesss</th>\n",
       "      <th>song_id</th>\n",
       "      <th>title</th>\n",
       "      <th>track_7digitalid</th>\n",
       "    </tr>\n",
       "  </thead>\n",
       "  <tbody>\n",
       "    <tr>\n",
       "      <th>0</th>\n",
       "      <td></td>\n",
       "      <td>29785</td>\n",
       "      <td>0.780462</td>\n",
       "      <td>0.574275</td>\n",
       "      <td>ARMQHX71187B9890D3</td>\n",
       "      <td>NaN</td>\n",
       "      <td>Atlanta, GA</td>\n",
       "      <td>NaN</td>\n",
       "      <td>bc5e2ad6-0a4a-4d90-b911-e9a7e6861727</td>\n",
       "      <td>Mastodon</td>\n",
       "      <td>-1</td>\n",
       "      <td></td>\n",
       "      <td>0</td>\n",
       "      <td>0</td>\n",
       "      <td>Call of the Mastodon</td>\n",
       "      <td>223563</td>\n",
       "      <td>0.597641</td>\n",
       "      <td>SOVLGJY12A8C13FBED</td>\n",
       "      <td>Deep Sea Creature</td>\n",
       "      <td>2442524</td>\n",
       "    </tr>\n",
       "    <tr>\n",
       "      <th>1</th>\n",
       "      <td></td>\n",
       "      <td>167867</td>\n",
       "      <td>0.561590</td>\n",
       "      <td>0.420570</td>\n",
       "      <td>AR2PT4M1187FB55B1A</td>\n",
       "      <td>NaN</td>\n",
       "      <td></td>\n",
       "      <td>NaN</td>\n",
       "      <td>d54ea4a6-0b9c-4e47-bed0-289ae9ff4037</td>\n",
       "      <td>Los Chichos</td>\n",
       "      <td>1880</td>\n",
       "      <td></td>\n",
       "      <td>0</td>\n",
       "      <td>0</td>\n",
       "      <td>Adelante</td>\n",
       "      <td>221677</td>\n",
       "      <td>NaN</td>\n",
       "      <td>SOGDQZK12A8C13F37C</td>\n",
       "      <td>No Quieras Marcharte</td>\n",
       "      <td>2423472</td>\n",
       "    </tr>\n",
       "  </tbody>\n",
       "</table>\n",
       "</div>"
      ],
      "text/plain": [
       "  analyzer_version  artist_7digitalid  artist_familiarity  artist_hotttnesss  \\\n",
       "0                               29785            0.780462           0.574275   \n",
       "1                              167867            0.561590           0.420570   \n",
       "\n",
       "            artist_id  artist_latitude artist_location  artist_longitude  \\\n",
       "0  ARMQHX71187B9890D3              NaN     Atlanta, GA               NaN   \n",
       "1  AR2PT4M1187FB55B1A              NaN                               NaN   \n",
       "\n",
       "                            artist_mbid  artist_name  artist_playmeid genre  \\\n",
       "0  bc5e2ad6-0a4a-4d90-b911-e9a7e6861727     Mastodon               -1         \n",
       "1  d54ea4a6-0b9c-4e47-bed0-289ae9ff4037  Los Chichos             1880         \n",
       "\n",
       "   idx_artist_terms  idx_similar_artists               release  \\\n",
       "0                 0                    0  Call of the Mastodon   \n",
       "1                 0                    0              Adelante   \n",
       "\n",
       "   release_7digitalid  song_hotttnesss             song_id  \\\n",
       "0              223563         0.597641  SOVLGJY12A8C13FBED   \n",
       "1              221677              NaN  SOGDQZK12A8C13F37C   \n",
       "\n",
       "                  title  track_7digitalid  \n",
       "0     Deep Sea Creature           2442524  \n",
       "1  No Quieras Marcharte           2423472  "
      ]
     },
     "execution_count": 10,
     "metadata": {},
     "output_type": "execute_result"
    }
   ],
   "source": [
    "metadata_df = store.select(\"/metadata/songs\")\n",
    "metadata_df[:2]"
   ]
  },
  {
   "cell_type": "code",
   "execution_count": 11,
   "metadata": {
    "collapsed": false
   },
   "outputs": [
    {
     "data": {
      "text/html": [
       "<div>\n",
       "<table border=\"1\" class=\"dataframe\">\n",
       "  <thead>\n",
       "    <tr style=\"text-align: right;\">\n",
       "      <th></th>\n",
       "      <th>analysis_sample_rate</th>\n",
       "      <th>audio_md5</th>\n",
       "      <th>danceability</th>\n",
       "      <th>duration</th>\n",
       "      <th>end_of_fade_in</th>\n",
       "      <th>energy</th>\n",
       "      <th>idx_bars_confidence</th>\n",
       "      <th>idx_bars_start</th>\n",
       "      <th>idx_beats_confidence</th>\n",
       "      <th>idx_beats_start</th>\n",
       "      <th>...</th>\n",
       "      <th>key</th>\n",
       "      <th>key_confidence</th>\n",
       "      <th>loudness</th>\n",
       "      <th>mode</th>\n",
       "      <th>mode_confidence</th>\n",
       "      <th>start_of_fade_out</th>\n",
       "      <th>tempo</th>\n",
       "      <th>time_signature</th>\n",
       "      <th>time_signature_confidence</th>\n",
       "      <th>track_id</th>\n",
       "    </tr>\n",
       "  </thead>\n",
       "  <tbody>\n",
       "    <tr>\n",
       "      <th>0</th>\n",
       "      <td>22050</td>\n",
       "      <td>a600d65cf157a306be60f26ecbf218f4</td>\n",
       "      <td>0</td>\n",
       "      <td>280.21506</td>\n",
       "      <td>0.238</td>\n",
       "      <td>0</td>\n",
       "      <td>0</td>\n",
       "      <td>0</td>\n",
       "      <td>0</td>\n",
       "      <td>0</td>\n",
       "      <td>...</td>\n",
       "      <td>5</td>\n",
       "      <td>0.555</td>\n",
       "      <td>-3.306</td>\n",
       "      <td>1</td>\n",
       "      <td>0.50</td>\n",
       "      <td>275.528</td>\n",
       "      <td>173.205</td>\n",
       "      <td>5</td>\n",
       "      <td>0.12</td>\n",
       "      <td>TRACCVZ128F4291A8A</td>\n",
       "    </tr>\n",
       "    <tr>\n",
       "      <th>1</th>\n",
       "      <td>22050</td>\n",
       "      <td>c64d75b0588e5ab552ee94548b50a4fa</td>\n",
       "      <td>0</td>\n",
       "      <td>191.68608</td>\n",
       "      <td>0.000</td>\n",
       "      <td>0</td>\n",
       "      <td>0</td>\n",
       "      <td>0</td>\n",
       "      <td>0</td>\n",
       "      <td>0</td>\n",
       "      <td>...</td>\n",
       "      <td>0</td>\n",
       "      <td>0.501</td>\n",
       "      <td>-10.764</td>\n",
       "      <td>1</td>\n",
       "      <td>0.71</td>\n",
       "      <td>184.128</td>\n",
       "      <td>150.955</td>\n",
       "      <td>4</td>\n",
       "      <td>0.60</td>\n",
       "      <td>TRACCMH128F428E4CD</td>\n",
       "    </tr>\n",
       "  </tbody>\n",
       "</table>\n",
       "<p>2 rows × 31 columns</p>\n",
       "</div>"
      ],
      "text/plain": [
       "   analysis_sample_rate                         audio_md5  danceability  \\\n",
       "0                 22050  a600d65cf157a306be60f26ecbf218f4             0   \n",
       "1                 22050  c64d75b0588e5ab552ee94548b50a4fa             0   \n",
       "\n",
       "    duration  end_of_fade_in  energy  idx_bars_confidence  idx_bars_start  \\\n",
       "0  280.21506           0.238       0                    0               0   \n",
       "1  191.68608           0.000       0                    0               0   \n",
       "\n",
       "   idx_beats_confidence  idx_beats_start         ...          key  \\\n",
       "0                     0                0         ...            5   \n",
       "1                     0                0         ...            0   \n",
       "\n",
       "   key_confidence  loudness  mode  mode_confidence  start_of_fade_out  \\\n",
       "0           0.555    -3.306     1             0.50            275.528   \n",
       "1           0.501   -10.764     1             0.71            184.128   \n",
       "\n",
       "     tempo  time_signature  time_signature_confidence            track_id  \n",
       "0  173.205               5                       0.12  TRACCVZ128F4291A8A  \n",
       "1  150.955               4                       0.60  TRACCMH128F428E4CD  \n",
       "\n",
       "[2 rows x 31 columns]"
      ]
     },
     "execution_count": 11,
     "metadata": {},
     "output_type": "execute_result"
    }
   ],
   "source": [
    "# Get the analysis dataset first 2 rows\n",
    "df[:2]"
   ]
  },
  {
   "cell_type": "code",
   "execution_count": 15,
   "metadata": {
    "collapsed": false
   },
   "outputs": [],
   "source": [
    "del df[\"analysis_sample_rate\"]"
   ]
  },
  {
   "cell_type": "code",
   "execution_count": 16,
   "metadata": {
    "collapsed": false
   },
   "outputs": [
    {
     "data": {
      "text/html": [
       "<div>\n",
       "<table border=\"1\" class=\"dataframe\">\n",
       "  <thead>\n",
       "    <tr style=\"text-align: right;\">\n",
       "      <th></th>\n",
       "      <th>audio_md5</th>\n",
       "      <th>danceability</th>\n",
       "      <th>duration</th>\n",
       "      <th>end_of_fade_in</th>\n",
       "      <th>energy</th>\n",
       "      <th>idx_bars_confidence</th>\n",
       "      <th>idx_bars_start</th>\n",
       "      <th>idx_beats_confidence</th>\n",
       "      <th>idx_beats_start</th>\n",
       "      <th>idx_sections_confidence</th>\n",
       "      <th>...</th>\n",
       "      <th>key</th>\n",
       "      <th>key_confidence</th>\n",
       "      <th>loudness</th>\n",
       "      <th>mode</th>\n",
       "      <th>mode_confidence</th>\n",
       "      <th>start_of_fade_out</th>\n",
       "      <th>tempo</th>\n",
       "      <th>time_signature</th>\n",
       "      <th>time_signature_confidence</th>\n",
       "      <th>track_id</th>\n",
       "    </tr>\n",
       "  </thead>\n",
       "  <tbody>\n",
       "    <tr>\n",
       "      <th>0</th>\n",
       "      <td>a600d65cf157a306be60f26ecbf218f4</td>\n",
       "      <td>0</td>\n",
       "      <td>280.21506</td>\n",
       "      <td>0.238</td>\n",
       "      <td>0</td>\n",
       "      <td>0</td>\n",
       "      <td>0</td>\n",
       "      <td>0</td>\n",
       "      <td>0</td>\n",
       "      <td>0</td>\n",
       "      <td>...</td>\n",
       "      <td>5</td>\n",
       "      <td>0.555</td>\n",
       "      <td>-3.306</td>\n",
       "      <td>1</td>\n",
       "      <td>0.50</td>\n",
       "      <td>275.528</td>\n",
       "      <td>173.205</td>\n",
       "      <td>5</td>\n",
       "      <td>0.12</td>\n",
       "      <td>TRACCVZ128F4291A8A</td>\n",
       "    </tr>\n",
       "    <tr>\n",
       "      <th>1</th>\n",
       "      <td>c64d75b0588e5ab552ee94548b50a4fa</td>\n",
       "      <td>0</td>\n",
       "      <td>191.68608</td>\n",
       "      <td>0.000</td>\n",
       "      <td>0</td>\n",
       "      <td>0</td>\n",
       "      <td>0</td>\n",
       "      <td>0</td>\n",
       "      <td>0</td>\n",
       "      <td>0</td>\n",
       "      <td>...</td>\n",
       "      <td>0</td>\n",
       "      <td>0.501</td>\n",
       "      <td>-10.764</td>\n",
       "      <td>1</td>\n",
       "      <td>0.71</td>\n",
       "      <td>184.128</td>\n",
       "      <td>150.955</td>\n",
       "      <td>4</td>\n",
       "      <td>0.60</td>\n",
       "      <td>TRACCMH128F428E4CD</td>\n",
       "    </tr>\n",
       "  </tbody>\n",
       "</table>\n",
       "<p>2 rows × 30 columns</p>\n",
       "</div>"
      ],
      "text/plain": [
       "                          audio_md5  danceability   duration  end_of_fade_in  \\\n",
       "0  a600d65cf157a306be60f26ecbf218f4             0  280.21506           0.238   \n",
       "1  c64d75b0588e5ab552ee94548b50a4fa             0  191.68608           0.000   \n",
       "\n",
       "   energy  idx_bars_confidence  idx_bars_start  idx_beats_confidence  \\\n",
       "0       0                    0               0                     0   \n",
       "1       0                    0               0                     0   \n",
       "\n",
       "   idx_beats_start  idx_sections_confidence         ...          key  \\\n",
       "0                0                        0         ...            5   \n",
       "1                0                        0         ...            0   \n",
       "\n",
       "   key_confidence  loudness  mode  mode_confidence  start_of_fade_out  \\\n",
       "0           0.555    -3.306     1             0.50            275.528   \n",
       "1           0.501   -10.764     1             0.71            184.128   \n",
       "\n",
       "     tempo  time_signature  time_signature_confidence            track_id  \n",
       "0  173.205               5                       0.12  TRACCVZ128F4291A8A  \n",
       "1  150.955               4                       0.60  TRACCMH128F428E4CD  \n",
       "\n",
       "[2 rows x 30 columns]"
      ]
     },
     "execution_count": 16,
     "metadata": {},
     "output_type": "execute_result"
    }
   ],
   "source": [
    "df[:2]"
   ]
  },
  {
   "cell_type": "code",
   "execution_count": 18,
   "metadata": {
    "collapsed": false
   },
   "outputs": [],
   "source": [
    "del df[\"audio_md5\"]"
   ]
  },
  {
   "cell_type": "code",
   "execution_count": 20,
   "metadata": {
    "collapsed": false
   },
   "outputs": [
    {
     "data": {
      "text/plain": [
       "0.0"
      ]
     },
     "execution_count": 20,
     "metadata": {},
     "output_type": "execute_result"
    }
   ],
   "source": [
    "df[\"danceability\"].min()"
   ]
  },
  {
   "cell_type": "code",
   "execution_count": 21,
   "metadata": {
    "collapsed": false
   },
   "outputs": [
    {
     "data": {
      "text/plain": [
       "0.0"
      ]
     },
     "execution_count": 21,
     "metadata": {},
     "output_type": "execute_result"
    }
   ],
   "source": [
    "df[\"danceability\"].max()"
   ]
  },
  {
   "cell_type": "code",
   "execution_count": 22,
   "metadata": {
    "collapsed": true
   },
   "outputs": [],
   "source": [
    "del df[\"danceability\"]"
   ]
  },
  {
   "cell_type": "code",
   "execution_count": 24,
   "metadata": {
    "collapsed": false
   },
   "outputs": [
    {
     "data": {
      "text/plain": [
       "43.119"
      ]
     },
     "execution_count": 24,
     "metadata": {},
     "output_type": "execute_result"
    }
   ],
   "source": [
    "df[\"end_of_fade_in\"].max()"
   ]
  },
  {
   "cell_type": "code",
   "execution_count": 25,
   "metadata": {
    "collapsed": false
   },
   "outputs": [
    {
     "data": {
      "text/plain": [
       "Index(['duration', 'end_of_fade_in', 'energy', 'idx_bars_confidence',\n",
       "       'idx_bars_start', 'idx_beats_confidence', 'idx_beats_start',\n",
       "       'idx_sections_confidence', 'idx_sections_start',\n",
       "       'idx_segments_confidence', 'idx_segments_loudness_max',\n",
       "       'idx_segments_loudness_max_time', 'idx_segments_loudness_start',\n",
       "       'idx_segments_pitches', 'idx_segments_start', 'idx_segments_timbre',\n",
       "       'idx_tatums_confidence', 'idx_tatums_start', 'key', 'key_confidence',\n",
       "       'loudness', 'mode', 'mode_confidence', 'start_of_fade_out', 'tempo',\n",
       "       'time_signature', 'time_signature_confidence', 'track_id'],\n",
       "      dtype='object')"
      ]
     },
     "execution_count": 25,
     "metadata": {},
     "output_type": "execute_result"
    }
   ],
   "source": [
    "df.columns"
   ]
  },
  {
   "cell_type": "code",
   "execution_count": 26,
   "metadata": {
    "collapsed": false,
    "scrolled": true
   },
   "outputs": [
    {
     "name": "stdout",
     "output_type": "stream",
     "text": [
      "duration: min = 1.04444, max = 1819.76771\n",
      "end_of_fade_in: min = 0.0, max = 43.119\n",
      "energy: min = 0.0, max = 0.0\n",
      "idx_bars_confidence: min = 0, max = 0\n",
      "idx_bars_start: min = 0, max = 0\n",
      "idx_beats_confidence: min = 0, max = 0\n",
      "idx_beats_start: min = 0, max = 0\n",
      "idx_sections_confidence: min = 0, max = 0\n",
      "idx_sections_start: min = 0, max = 0\n",
      "idx_segments_confidence: min = 0, max = 0\n",
      "idx_segments_loudness_max: min = 0, max = 0\n",
      "idx_segments_loudness_max_time: min = 0, max = 0\n",
      "idx_segments_loudness_start: min = 0, max = 0\n",
      "idx_segments_pitches: min = 0, max = 0\n",
      "idx_segments_start: min = 0, max = 0\n",
      "idx_segments_timbre: min = 0, max = 0\n",
      "idx_tatums_confidence: min = 0, max = 0\n",
      "idx_tatums_start: min = 0, max = 0\n",
      "key: min = 0, max = 11\n",
      "key_confidence: min = 0.0, max = 1.0\n",
      "loudness: min = -51.643, max = 0.566\n",
      "mode: min = 0, max = 1\n",
      "mode_confidence: min = 0.0, max = 1.0\n",
      "start_of_fade_out: min = 1.044, max = 1813.426\n",
      "tempo: min = 0.0, max = 262.828\n",
      "time_signature: min = 0, max = 7\n",
      "time_signature_confidence: min = 0.0, max = 1.0\n",
      "track_id: min = TRAAAAW128F429D538, max = TRBIJYB128F14AE326\n"
     ]
    }
   ],
   "source": [
    "for i in df.columns:\n",
    "    print(\"{0}: min = {1}, max = {2}\".format(i, df[i].min(), df[i].max()))"
   ]
  },
  {
   "cell_type": "code",
   "execution_count": 29,
   "metadata": {
    "collapsed": false
   },
   "outputs": [],
   "source": [
    "droppable_cols = [i for i in df.columns if i.startswith(\"idx\")]\n",
    "for i in droppable_cols:\n",
    "    del df[i]"
   ]
  },
  {
   "cell_type": "code",
   "execution_count": 31,
   "metadata": {
    "collapsed": false
   },
   "outputs": [
    {
     "data": {
      "text/html": [
       "<div>\n",
       "<table border=\"1\" class=\"dataframe\">\n",
       "  <thead>\n",
       "    <tr style=\"text-align: right;\">\n",
       "      <th></th>\n",
       "      <th>duration</th>\n",
       "      <th>end_of_fade_in</th>\n",
       "      <th>energy</th>\n",
       "      <th>key</th>\n",
       "      <th>key_confidence</th>\n",
       "      <th>loudness</th>\n",
       "      <th>mode</th>\n",
       "      <th>mode_confidence</th>\n",
       "      <th>start_of_fade_out</th>\n",
       "      <th>tempo</th>\n",
       "      <th>time_signature</th>\n",
       "      <th>time_signature_confidence</th>\n",
       "      <th>track_id</th>\n",
       "    </tr>\n",
       "  </thead>\n",
       "  <tbody>\n",
       "    <tr>\n",
       "      <th>0</th>\n",
       "      <td>280.21506</td>\n",
       "      <td>0.238</td>\n",
       "      <td>0</td>\n",
       "      <td>5</td>\n",
       "      <td>0.555</td>\n",
       "      <td>-3.306</td>\n",
       "      <td>1</td>\n",
       "      <td>0.50</td>\n",
       "      <td>275.528</td>\n",
       "      <td>173.205</td>\n",
       "      <td>5</td>\n",
       "      <td>0.12</td>\n",
       "      <td>TRACCVZ128F4291A8A</td>\n",
       "    </tr>\n",
       "    <tr>\n",
       "      <th>1</th>\n",
       "      <td>191.68608</td>\n",
       "      <td>0.000</td>\n",
       "      <td>0</td>\n",
       "      <td>0</td>\n",
       "      <td>0.501</td>\n",
       "      <td>-10.764</td>\n",
       "      <td>1</td>\n",
       "      <td>0.71</td>\n",
       "      <td>184.128</td>\n",
       "      <td>150.955</td>\n",
       "      <td>4</td>\n",
       "      <td>0.60</td>\n",
       "      <td>TRACCMH128F428E4CD</td>\n",
       "    </tr>\n",
       "  </tbody>\n",
       "</table>\n",
       "</div>"
      ],
      "text/plain": [
       "    duration  end_of_fade_in  energy  key  key_confidence  loudness  mode  \\\n",
       "0  280.21506           0.238       0    5           0.555    -3.306     1   \n",
       "1  191.68608           0.000       0    0           0.501   -10.764     1   \n",
       "\n",
       "   mode_confidence  start_of_fade_out    tempo  time_signature  \\\n",
       "0             0.50            275.528  173.205               5   \n",
       "1             0.71            184.128  150.955               4   \n",
       "\n",
       "   time_signature_confidence            track_id  \n",
       "0                       0.12  TRACCVZ128F4291A8A  \n",
       "1                       0.60  TRACCMH128F428E4CD  "
      ]
     },
     "execution_count": 31,
     "metadata": {},
     "output_type": "execute_result"
    }
   ],
   "source": [
    "df[:2]"
   ]
  },
  {
   "cell_type": "code",
   "execution_count": 32,
   "metadata": {
    "collapsed": false
   },
   "outputs": [
    {
     "name": "stdout",
     "output_type": "stream",
     "text": [
      "<class 'pandas.core.frame.DataFrame'>\n",
      "Int64Index: 10000 entries, 0 to 9999\n",
      "Data columns (total 13 columns):\n",
      "duration                     10000 non-null float64\n",
      "end_of_fade_in               10000 non-null float64\n",
      "energy                       10000 non-null float64\n",
      "key                          10000 non-null int32\n",
      "key_confidence               10000 non-null float64\n",
      "loudness                     10000 non-null float64\n",
      "mode                         10000 non-null int32\n",
      "mode_confidence              10000 non-null float64\n",
      "start_of_fade_out            10000 non-null float64\n",
      "tempo                        10000 non-null float64\n",
      "time_signature               10000 non-null int32\n",
      "time_signature_confidence    10000 non-null float64\n",
      "track_id                     10000 non-null object\n",
      "dtypes: float64(9), int32(3), object(1)\n",
      "memory usage: 976.6+ KB\n"
     ]
    }
   ],
   "source": [
    "df.info()"
   ]
  },
  {
   "cell_type": "code",
   "execution_count": 33,
   "metadata": {
    "collapsed": true
   },
   "outputs": [],
   "source": [
    "del df[\"energy\"]"
   ]
  },
  {
   "cell_type": "code",
   "execution_count": 34,
   "metadata": {
    "collapsed": false
   },
   "outputs": [
    {
     "name": "stdout",
     "output_type": "stream",
     "text": [
      "<class 'pandas.core.frame.DataFrame'>\n",
      "Int64Index: 10000 entries, 0 to 9999\n",
      "Data columns (total 12 columns):\n",
      "duration                     10000 non-null float64\n",
      "end_of_fade_in               10000 non-null float64\n",
      "key                          10000 non-null int32\n",
      "key_confidence               10000 non-null float64\n",
      "loudness                     10000 non-null float64\n",
      "mode                         10000 non-null int32\n",
      "mode_confidence              10000 non-null float64\n",
      "start_of_fade_out            10000 non-null float64\n",
      "tempo                        10000 non-null float64\n",
      "time_signature               10000 non-null int32\n",
      "time_signature_confidence    10000 non-null float64\n",
      "track_id                     10000 non-null object\n",
      "dtypes: float64(8), int32(3), object(1)\n",
      "memory usage: 898.4+ KB\n"
     ]
    }
   ],
   "source": [
    "df.info()"
   ]
  },
  {
   "cell_type": "code",
   "execution_count": 35,
   "metadata": {
    "collapsed": false
   },
   "outputs": [
    {
     "data": {
      "text/html": [
       "<div>\n",
       "<table border=\"1\" class=\"dataframe\">\n",
       "  <thead>\n",
       "    <tr style=\"text-align: right;\">\n",
       "      <th></th>\n",
       "      <th>duration</th>\n",
       "      <th>end_of_fade_in</th>\n",
       "      <th>key</th>\n",
       "      <th>key_confidence</th>\n",
       "      <th>loudness</th>\n",
       "      <th>mode</th>\n",
       "      <th>mode_confidence</th>\n",
       "      <th>start_of_fade_out</th>\n",
       "      <th>tempo</th>\n",
       "      <th>time_signature</th>\n",
       "      <th>time_signature_confidence</th>\n",
       "      <th>track_id</th>\n",
       "    </tr>\n",
       "  </thead>\n",
       "  <tbody>\n",
       "    <tr>\n",
       "      <th>0</th>\n",
       "      <td>280.21506</td>\n",
       "      <td>0.238</td>\n",
       "      <td>5</td>\n",
       "      <td>0.555</td>\n",
       "      <td>-3.306</td>\n",
       "      <td>1</td>\n",
       "      <td>0.50</td>\n",
       "      <td>275.528</td>\n",
       "      <td>173.205</td>\n",
       "      <td>5</td>\n",
       "      <td>0.12</td>\n",
       "      <td>TRACCVZ128F4291A8A</td>\n",
       "    </tr>\n",
       "    <tr>\n",
       "      <th>1</th>\n",
       "      <td>191.68608</td>\n",
       "      <td>0.000</td>\n",
       "      <td>0</td>\n",
       "      <td>0.501</td>\n",
       "      <td>-10.764</td>\n",
       "      <td>1</td>\n",
       "      <td>0.71</td>\n",
       "      <td>184.128</td>\n",
       "      <td>150.955</td>\n",
       "      <td>4</td>\n",
       "      <td>0.60</td>\n",
       "      <td>TRACCMH128F428E4CD</td>\n",
       "    </tr>\n",
       "  </tbody>\n",
       "</table>\n",
       "</div>"
      ],
      "text/plain": [
       "    duration  end_of_fade_in  key  key_confidence  loudness  mode  \\\n",
       "0  280.21506           0.238    5           0.555    -3.306     1   \n",
       "1  191.68608           0.000    0           0.501   -10.764     1   \n",
       "\n",
       "   mode_confidence  start_of_fade_out    tempo  time_signature  \\\n",
       "0             0.50            275.528  173.205               5   \n",
       "1             0.71            184.128  150.955               4   \n",
       "\n",
       "   time_signature_confidence            track_id  \n",
       "0                       0.12  TRACCVZ128F4291A8A  \n",
       "1                       0.60  TRACCMH128F428E4CD  "
      ]
     },
     "execution_count": 35,
     "metadata": {},
     "output_type": "execute_result"
    }
   ],
   "source": [
    "df[:2]"
   ]
  },
  {
   "cell_type": "code",
   "execution_count": 36,
   "metadata": {
    "collapsed": false
   },
   "outputs": [
    {
     "name": "stdout",
     "output_type": "stream",
     "text": [
      "duration: min = 1.04444, max = 1819.76771\n",
      "end_of_fade_in: min = 0.0, max = 43.119\n",
      "key: min = 0, max = 11\n",
      "key_confidence: min = 0.0, max = 1.0\n",
      "loudness: min = -51.643, max = 0.566\n",
      "mode: min = 0, max = 1\n",
      "mode_confidence: min = 0.0, max = 1.0\n",
      "start_of_fade_out: min = 1.044, max = 1813.426\n",
      "tempo: min = 0.0, max = 262.828\n",
      "time_signature: min = 0, max = 7\n",
      "time_signature_confidence: min = 0.0, max = 1.0\n",
      "track_id: min = TRAAAAW128F429D538, max = TRBIJYB128F14AE326\n"
     ]
    }
   ],
   "source": [
    "for i in df.columns:\n",
    "    print(\"{0}: min = {1}, max = {2}\".format(i, df[i].min(), df[i].max()))"
   ]
  },
  {
   "cell_type": "code",
   "execution_count": 39,
   "metadata": {
    "collapsed": false
   },
   "outputs": [
    {
     "data": {
      "text/plain": [
       "<matplotlib.axes._subplots.AxesSubplot at 0x1db70c92978>"
      ]
     },
     "execution_count": 39,
     "metadata": {},
     "output_type": "execute_result"
    },
    {
     "data": {
      "image/png": "[encoded data removed]",
      "text/plain": [
       "<matplotlib.figure.Figure at 0x1db70c8d898>"
      ]
     },
     "metadata": {},
     "output_type": "display_data"
    }
   ],
   "source": [
    "df[\"duration\"].plot(kind=\"hist\", bins=20, color=\"c\")"
   ]
  },
  {
   "cell_type": "code",
   "execution_count": 40,
   "metadata": {
    "collapsed": false
   },
   "outputs": [
    {
     "data": {
      "text/html": [
       "<div>\n",
       "<table border=\"1\" class=\"dataframe\">\n",
       "  <thead>\n",
       "    <tr style=\"text-align: right;\">\n",
       "      <th></th>\n",
       "      <th>duration</th>\n",
       "      <th>end_of_fade_in</th>\n",
       "      <th>key</th>\n",
       "      <th>key_confidence</th>\n",
       "      <th>loudness</th>\n",
       "      <th>mode</th>\n",
       "      <th>mode_confidence</th>\n",
       "      <th>start_of_fade_out</th>\n",
       "      <th>tempo</th>\n",
       "      <th>time_signature</th>\n",
       "      <th>time_signature_confidence</th>\n",
       "      <th>track_id</th>\n",
       "    </tr>\n",
       "  </thead>\n",
       "  <tbody>\n",
       "    <tr>\n",
       "      <th>9817</th>\n",
       "      <td>1819.76771</td>\n",
       "      <td>2.386</td>\n",
       "      <td>2</td>\n",
       "      <td>0.601</td>\n",
       "      <td>-14.402</td>\n",
       "      <td>1</td>\n",
       "      <td>0.475</td>\n",
       "      <td>1813.426</td>\n",
       "      <td>134.531</td>\n",
       "      <td>4</td>\n",
       "      <td>0.493</td>\n",
       "      <td>TRBGBIZ12903CB26BA</td>\n",
       "    </tr>\n",
       "  </tbody>\n",
       "</table>\n",
       "</div>"
      ],
      "text/plain": [
       "        duration  end_of_fade_in  key  key_confidence  loudness  mode  \\\n",
       "9817  1819.76771           2.386    2           0.601   -14.402     1   \n",
       "\n",
       "      mode_confidence  start_of_fade_out    tempo  time_signature  \\\n",
       "9817            0.475           1813.426  134.531               4   \n",
       "\n",
       "      time_signature_confidence            track_id  \n",
       "9817                      0.493  TRBGBIZ12903CB26BA  "
      ]
     },
     "execution_count": 40,
     "metadata": {},
     "output_type": "execute_result"
    }
   ],
   "source": [
    "df[df.duration == df[\"duration\"].max()]"
   ]
  },
  {
   "cell_type": "code",
   "execution_count": 43,
   "metadata": {
    "collapsed": false
   },
   "outputs": [
    {
     "data": {
      "text/html": [
       "<div>\n",
       "<table border=\"1\" class=\"dataframe\">\n",
       "  <thead>\n",
       "    <tr style=\"text-align: right;\">\n",
       "      <th></th>\n",
       "      <th>analyzer_version</th>\n",
       "      <th>artist_7digitalid</th>\n",
       "      <th>artist_familiarity</th>\n",
       "      <th>artist_hotttnesss</th>\n",
       "      <th>artist_id</th>\n",
       "      <th>artist_latitude</th>\n",
       "      <th>artist_location</th>\n",
       "      <th>artist_longitude</th>\n",
       "      <th>artist_mbid</th>\n",
       "      <th>artist_name</th>\n",
       "      <th>artist_playmeid</th>\n",
       "      <th>genre</th>\n",
       "      <th>idx_artist_terms</th>\n",
       "      <th>idx_similar_artists</th>\n",
       "      <th>release</th>\n",
       "      <th>release_7digitalid</th>\n",
       "      <th>song_hotttnesss</th>\n",
       "      <th>song_id</th>\n",
       "      <th>title</th>\n",
       "      <th>track_7digitalid</th>\n",
       "    </tr>\n",
       "  </thead>\n",
       "  <tbody>\n",
       "    <tr>\n",
       "      <th>9817</th>\n",
       "      <td></td>\n",
       "      <td>16919</td>\n",
       "      <td>0.68113</td>\n",
       "      <td>0.453399</td>\n",
       "      <td>AROATPL1187FB48E12</td>\n",
       "      <td>34.16788</td>\n",
       "      <td>Arizona</td>\n",
       "      <td>-111.9307</td>\n",
       "      <td>f6b037df-35e8-4ef5-b59c-5634de1b44d4</td>\n",
       "      <td>UFO</td>\n",
       "      <td>32564</td>\n",
       "      <td></td>\n",
       "      <td>0</td>\n",
       "      <td>0</td>\n",
       "      <td>Parker's Birthday \"Live in Texas</td>\n",
       "      <td>666530</td>\n",
       "      <td>NaN</td>\n",
       "      <td>SOKKDSX12AB018866A</td>\n",
       "      <td>Electric Phase / Hot 'n' Ready / Pack It Up 'n...</td>\n",
       "      <td>7388605</td>\n",
       "    </tr>\n",
       "  </tbody>\n",
       "</table>\n",
       "</div>"
      ],
      "text/plain": [
       "     analyzer_version  artist_7digitalid  artist_familiarity  \\\n",
       "9817                               16919             0.68113   \n",
       "\n",
       "      artist_hotttnesss           artist_id  artist_latitude artist_location  \\\n",
       "9817           0.453399  AROATPL1187FB48E12         34.16788         Arizona   \n",
       "\n",
       "      artist_longitude                           artist_mbid artist_name  \\\n",
       "9817         -111.9307  f6b037df-35e8-4ef5-b59c-5634de1b44d4         UFO   \n",
       "\n",
       "      artist_playmeid genre  idx_artist_terms  idx_similar_artists  \\\n",
       "9817            32564                       0                    0   \n",
       "\n",
       "                               release  release_7digitalid  song_hotttnesss  \\\n",
       "9817  Parker's Birthday \"Live in Texas              666530              NaN   \n",
       "\n",
       "                 song_id                                              title  \\\n",
       "9817  SOKKDSX12AB018866A  Electric Phase / Hot 'n' Ready / Pack It Up 'n...   \n",
       "\n",
       "      track_7digitalid  \n",
       "9817           7388605  "
      ]
     },
     "execution_count": 43,
     "metadata": {},
     "output_type": "execute_result"
    }
   ],
   "source": [
    "metadata_df[9817:9818]"
   ]
  },
  {
   "cell_type": "markdown",
   "metadata": {},
   "source": [
    "Loudness seems to be redundant given its scale, so we'll remove that too"
   ]
  },
  {
   "cell_type": "code",
   "execution_count": 44,
   "metadata": {
    "collapsed": true
   },
   "outputs": [],
   "source": [
    "del df[\"loudness\"]"
   ]
  },
  {
   "cell_type": "markdown",
   "metadata": {},
   "source": [
    "The `mode` field describes whether it's in major or minor, so we can remove that"
   ]
  },
  {
   "cell_type": "code",
   "execution_count": 45,
   "metadata": {
    "collapsed": true
   },
   "outputs": [],
   "source": [
    "del df[\"mode\"]"
   ]
  },
  {
   "cell_type": "code",
   "execution_count": 46,
   "metadata": {
    "collapsed": false
   },
   "outputs": [
    {
     "name": "stdout",
     "output_type": "stream",
     "text": [
      "duration: min = 1.04444, max = 1819.76771\n",
      "end_of_fade_in: min = 0.0, max = 43.119\n",
      "key: min = 0, max = 11\n",
      "key_confidence: min = 0.0, max = 1.0\n",
      "mode_confidence: min = 0.0, max = 1.0\n",
      "start_of_fade_out: min = 1.044, max = 1813.426\n",
      "tempo: min = 0.0, max = 262.828\n",
      "time_signature: min = 0, max = 7\n",
      "time_signature_confidence: min = 0.0, max = 1.0\n",
      "track_id: min = TRAAAAW128F429D538, max = TRBIJYB128F14AE326\n"
     ]
    }
   ],
   "source": [
    "for i in df.columns:\n",
    "    print(\"{0}: min = {1}, max = {2}\".format(i, df[i].min(), df[i].max()))"
   ]
  },
  {
   "cell_type": "code",
   "execution_count": 47,
   "metadata": {
    "collapsed": false
   },
   "outputs": [
    {
     "name": "stdout",
     "output_type": "stream",
     "text": [
      "<class 'pandas.core.frame.DataFrame'>\n",
      "Int64Index: 10000 entries, 0 to 9999\n",
      "Data columns (total 10 columns):\n",
      "duration                     10000 non-null float64\n",
      "end_of_fade_in               10000 non-null float64\n",
      "key                          10000 non-null int32\n",
      "key_confidence               10000 non-null float64\n",
      "mode_confidence              10000 non-null float64\n",
      "start_of_fade_out            10000 non-null float64\n",
      "tempo                        10000 non-null float64\n",
      "time_signature               10000 non-null int32\n",
      "time_signature_confidence    10000 non-null float64\n",
      "track_id                     10000 non-null object\n",
      "dtypes: float64(7), int32(2), object(1)\n",
      "memory usage: 781.2+ KB\n"
     ]
    }
   ],
   "source": [
    "df.info()"
   ]
  },
  {
   "cell_type": "code",
   "execution_count": 48,
   "metadata": {
    "collapsed": false
   },
   "outputs": [
    {
     "data": {
      "text/html": [
       "<div>\n",
       "<table border=\"1\" class=\"dataframe\">\n",
       "  <thead>\n",
       "    <tr style=\"text-align: right;\">\n",
       "      <th></th>\n",
       "      <th>analyzer_version</th>\n",
       "      <th>artist_7digitalid</th>\n",
       "      <th>artist_familiarity</th>\n",
       "      <th>artist_hotttnesss</th>\n",
       "      <th>artist_id</th>\n",
       "      <th>artist_latitude</th>\n",
       "      <th>artist_location</th>\n",
       "      <th>artist_longitude</th>\n",
       "      <th>artist_mbid</th>\n",
       "      <th>artist_name</th>\n",
       "      <th>artist_playmeid</th>\n",
       "      <th>genre</th>\n",
       "      <th>idx_artist_terms</th>\n",
       "      <th>idx_similar_artists</th>\n",
       "      <th>release</th>\n",
       "      <th>release_7digitalid</th>\n",
       "      <th>song_hotttnesss</th>\n",
       "      <th>song_id</th>\n",
       "      <th>title</th>\n",
       "      <th>track_7digitalid</th>\n",
       "    </tr>\n",
       "  </thead>\n",
       "  <tbody>\n",
       "    <tr>\n",
       "      <th>0</th>\n",
       "      <td></td>\n",
       "      <td>29785</td>\n",
       "      <td>0.780462</td>\n",
       "      <td>0.574275</td>\n",
       "      <td>ARMQHX71187B9890D3</td>\n",
       "      <td>NaN</td>\n",
       "      <td>Atlanta, GA</td>\n",
       "      <td>NaN</td>\n",
       "      <td>bc5e2ad6-0a4a-4d90-b911-e9a7e6861727</td>\n",
       "      <td>Mastodon</td>\n",
       "      <td>-1</td>\n",
       "      <td></td>\n",
       "      <td>0</td>\n",
       "      <td>0</td>\n",
       "      <td>Call of the Mastodon</td>\n",
       "      <td>223563</td>\n",
       "      <td>0.597641</td>\n",
       "      <td>SOVLGJY12A8C13FBED</td>\n",
       "      <td>Deep Sea Creature</td>\n",
       "      <td>2442524</td>\n",
       "    </tr>\n",
       "    <tr>\n",
       "      <th>1</th>\n",
       "      <td></td>\n",
       "      <td>167867</td>\n",
       "      <td>0.561590</td>\n",
       "      <td>0.420570</td>\n",
       "      <td>AR2PT4M1187FB55B1A</td>\n",
       "      <td>NaN</td>\n",
       "      <td></td>\n",
       "      <td>NaN</td>\n",
       "      <td>d54ea4a6-0b9c-4e47-bed0-289ae9ff4037</td>\n",
       "      <td>Los Chichos</td>\n",
       "      <td>1880</td>\n",
       "      <td></td>\n",
       "      <td>0</td>\n",
       "      <td>0</td>\n",
       "      <td>Adelante</td>\n",
       "      <td>221677</td>\n",
       "      <td>NaN</td>\n",
       "      <td>SOGDQZK12A8C13F37C</td>\n",
       "      <td>No Quieras Marcharte</td>\n",
       "      <td>2423472</td>\n",
       "    </tr>\n",
       "  </tbody>\n",
       "</table>\n",
       "</div>"
      ],
      "text/plain": [
       "  analyzer_version  artist_7digitalid  artist_familiarity  artist_hotttnesss  \\\n",
       "0                               29785            0.780462           0.574275   \n",
       "1                              167867            0.561590           0.420570   \n",
       "\n",
       "            artist_id  artist_latitude artist_location  artist_longitude  \\\n",
       "0  ARMQHX71187B9890D3              NaN     Atlanta, GA               NaN   \n",
       "1  AR2PT4M1187FB55B1A              NaN                               NaN   \n",
       "\n",
       "                            artist_mbid  artist_name  artist_playmeid genre  \\\n",
       "0  bc5e2ad6-0a4a-4d90-b911-e9a7e6861727     Mastodon               -1         \n",
       "1  d54ea4a6-0b9c-4e47-bed0-289ae9ff4037  Los Chichos             1880         \n",
       "\n",
       "   idx_artist_terms  idx_similar_artists               release  \\\n",
       "0                 0                    0  Call of the Mastodon   \n",
       "1                 0                    0              Adelante   \n",
       "\n",
       "   release_7digitalid  song_hotttnesss             song_id  \\\n",
       "0              223563         0.597641  SOVLGJY12A8C13FBED   \n",
       "1              221677              NaN  SOGDQZK12A8C13F37C   \n",
       "\n",
       "                  title  track_7digitalid  \n",
       "0     Deep Sea Creature           2442524  \n",
       "1  No Quieras Marcharte           2423472  "
      ]
     },
     "execution_count": 48,
     "metadata": {},
     "output_type": "execute_result"
    }
   ],
   "source": [
    "metadata_df[:2]"
   ]
  },
  {
   "cell_type": "markdown",
   "metadata": {},
   "source": [
    "Remove attributes for which all values aren't known"
   ]
  },
  {
   "cell_type": "code",
   "execution_count": 50,
   "metadata": {
    "collapsed": false
   },
   "outputs": [],
   "source": [
    "del metadata_df[\"analyzer_version\"]\n",
    "del metadata_df[\"artist_latitude\"]\n",
    "del metadata_df[\"artist_location\"]\n",
    "del metadata_df[\"artist_longitude\"]"
   ]
  },
  {
   "cell_type": "code",
   "execution_count": 51,
   "metadata": {
    "collapsed": false
   },
   "outputs": [
    {
     "name": "stdout",
     "output_type": "stream",
     "text": [
      "<class 'pandas.core.frame.DataFrame'>\n",
      "Int64Index: 10000 entries, 0 to 9999\n",
      "Data columns (total 16 columns):\n",
      "artist_7digitalid      10000 non-null int32\n",
      "artist_familiarity     9996 non-null float64\n",
      "artist_hotttnesss      10000 non-null float64\n",
      "artist_id              10000 non-null object\n",
      "artist_mbid            10000 non-null object\n",
      "artist_name            10000 non-null object\n",
      "artist_playmeid        10000 non-null int32\n",
      "genre                  10000 non-null object\n",
      "idx_artist_terms       10000 non-null int32\n",
      "idx_similar_artists    10000 non-null int32\n",
      "release                10000 non-null object\n",
      "release_7digitalid     10000 non-null int32\n",
      "song_hotttnesss        5648 non-null float64\n",
      "song_id                10000 non-null object\n",
      "title                  10000 non-null object\n",
      "track_7digitalid       10000 non-null int32\n",
      "dtypes: float64(3), int32(6), object(7)\n",
      "memory usage: 1.1+ MB\n"
     ]
    }
   ],
   "source": [
    "metadata_df.info()"
   ]
  },
  {
   "cell_type": "code",
   "execution_count": 52,
   "metadata": {
    "collapsed": false
   },
   "outputs": [
    {
     "name": "stdout",
     "output_type": "stream",
     "text": [
      "artist_7digitalid: min = -1, max = 809205\n",
      "artist_familiarity: min = 0.0, max = 1.0\n",
      "artist_hotttnesss: min = 0.0, max = 1.0825025567261237\n",
      "artist_id: min = AR009211187B989185, max = ARZZRK91187B9A5CA5\n",
      "artist_mbid: min = , max = ffb2d3e3-a4cc-48cf-8fb0-f2f846e9d7b9\n",
      "artist_name: min = !!!, max = Étienne Daho\n",
      "artist_playmeid: min = -1, max = 242965\n",
      "genre: min = , max = \n",
      "idx_artist_terms: min = 0, max = 0\n",
      "idx_similar_artists: min = 0, max = 0\n",
      "release: min =  Lazy Afternoon En Anglais, max = Überfall\n",
      "release_7digitalid: min = 63, max = 823599\n",
      "song_hotttnesss: min = 0.0, max = 1.0\n",
      "song_id: min = SOAAAQN12AB01856D3, max = SOZZWWW12A58A8146A\n",
      "title: min = , max = Último Desejo\n",
      "track_7digitalid: min = 845, max = 9090443\n"
     ]
    }
   ],
   "source": [
    "for i in metadata_df.columns:\n",
    "    print(\"{0}: min = {1}, max = {2}\".format(i, metadata_df[i].min(), metadata_df[i].max()))"
   ]
  },
  {
   "cell_type": "code",
   "execution_count": 54,
   "metadata": {
    "collapsed": false
   },
   "outputs": [],
   "source": [
    "# We don't need the ID on 7digital.com\n",
    "del metadata_df[\"artist_7digitalid\"]"
   ]
  },
  {
   "cell_type": "code",
   "execution_count": 55,
   "metadata": {
    "collapsed": true
   },
   "outputs": [],
   "source": [
    "# artist_mbid has some null values, so remove the field\n",
    "del metadata_df[\"artist_mbid\"]"
   ]
  },
  {
   "cell_type": "code",
   "execution_count": 56,
   "metadata": {
    "collapsed": true
   },
   "outputs": [],
   "source": [
    "del metadata_df[\"artist_name\"]\n",
    "del metadata_df[\"artist_playmeid\"]\n",
    "del metadata_df[\"genre\"]\n",
    "del metadata_df[\"idx_artist_terms\"]\n",
    "del metadata_df[\"idx_similar_artists\"]\n",
    "del metadata_df[\"track_7digitalid\"]"
   ]
  },
  {
   "cell_type": "code",
   "execution_count": 57,
   "metadata": {
    "collapsed": false
   },
   "outputs": [
    {
     "name": "stdout",
     "output_type": "stream",
     "text": [
      "<class 'pandas.core.frame.DataFrame'>\n",
      "Int64Index: 10000 entries, 0 to 9999\n",
      "Data columns (total 8 columns):\n",
      "artist_familiarity    9996 non-null float64\n",
      "artist_hotttnesss     10000 non-null float64\n",
      "artist_id             10000 non-null object\n",
      "release               10000 non-null object\n",
      "release_7digitalid    10000 non-null int32\n",
      "song_hotttnesss       5648 non-null float64\n",
      "song_id               10000 non-null object\n",
      "title                 10000 non-null object\n",
      "dtypes: float64(3), int32(1), object(4)\n",
      "memory usage: 664.1+ KB\n"
     ]
    }
   ],
   "source": [
    "metadata_df.info()"
   ]
  },
  {
   "cell_type": "code",
   "execution_count": 58,
   "metadata": {
    "collapsed": false
   },
   "outputs": [
    {
     "name": "stdout",
     "output_type": "stream",
     "text": [
      "artist_familiarity: min = 0.0, max = 1.0\n",
      "artist_hotttnesss: min = 0.0, max = 1.0825025567261237\n",
      "artist_id: min = AR009211187B989185, max = ARZZRK91187B9A5CA5\n",
      "release: min =  Lazy Afternoon En Anglais, max = Überfall\n",
      "release_7digitalid: min = 63, max = 823599\n",
      "song_hotttnesss: min = 0.0, max = 1.0\n",
      "song_id: min = SOAAAQN12AB01856D3, max = SOZZWWW12A58A8146A\n",
      "title: min = , max = Último Desejo\n"
     ]
    }
   ],
   "source": [
    "for i in metadata_df.columns:\n",
    "    print(\"{0}: min = {1}, max = {2}\".format(i, metadata_df[i].min(), metadata_df[i].max()))"
   ]
  },
  {
   "cell_type": "markdown",
   "metadata": {},
   "source": [
    "`title` has some null values, remove those as well"
   ]
  },
  {
   "cell_type": "code",
   "execution_count": 59,
   "metadata": {
    "collapsed": true
   },
   "outputs": [],
   "source": [
    "del metadata_df[\"title\"]"
   ]
  },
  {
   "cell_type": "code",
   "execution_count": 60,
   "metadata": {
    "collapsed": false
   },
   "outputs": [
    {
     "name": "stdout",
     "output_type": "stream",
     "text": [
      "<class 'pandas.core.frame.DataFrame'>\n",
      "Int64Index: 10000 entries, 0 to 9999\n",
      "Data columns (total 7 columns):\n",
      "artist_familiarity    9996 non-null float64\n",
      "artist_hotttnesss     10000 non-null float64\n",
      "artist_id             10000 non-null object\n",
      "release               10000 non-null object\n",
      "release_7digitalid    10000 non-null int32\n",
      "song_hotttnesss       5648 non-null float64\n",
      "song_id               10000 non-null object\n",
      "dtypes: float64(3), int32(1), object(3)\n",
      "memory usage: 585.9+ KB\n"
     ]
    }
   ],
   "source": [
    "metadata_df.info()"
   ]
  },
  {
   "cell_type": "code",
   "execution_count": 61,
   "metadata": {
    "collapsed": false
   },
   "outputs": [
    {
     "name": "stdout",
     "output_type": "stream",
     "text": [
      "<class 'pandas.core.frame.DataFrame'>\n",
      "Int64Index: 10000 entries, 0 to 9999\n",
      "Data columns (total 10 columns):\n",
      "duration                     10000 non-null float64\n",
      "end_of_fade_in               10000 non-null float64\n",
      "key                          10000 non-null int32\n",
      "key_confidence               10000 non-null float64\n",
      "mode_confidence              10000 non-null float64\n",
      "start_of_fade_out            10000 non-null float64\n",
      "tempo                        10000 non-null float64\n",
      "time_signature               10000 non-null int32\n",
      "time_signature_confidence    10000 non-null float64\n",
      "track_id                     10000 non-null object\n",
      "dtypes: float64(7), int32(2), object(1)\n",
      "memory usage: 781.2+ KB\n"
     ]
    }
   ],
   "source": [
    "df.info()"
   ]
  },
  {
   "cell_type": "markdown",
   "metadata": {},
   "source": [
    "Since around half of the `song_hotttnesss` values are null, we can remove them (yay!)"
   ]
  },
  {
   "cell_type": "code",
   "execution_count": 63,
   "metadata": {
    "collapsed": false
   },
   "outputs": [],
   "source": [
    "del metadata_df[\"song_hotttnesss\"]"
   ]
  },
  {
   "cell_type": "markdown",
   "metadata": {},
   "source": [
    "We impute the `artist_familiarity` with the mean."
   ]
  },
  {
   "cell_type": "code",
   "execution_count": 68,
   "metadata": {
    "collapsed": true
   },
   "outputs": [],
   "source": [
    "metadata_df[\"artist_familiarity\"].fillna(metadata_df[\"artist_familiarity\"].mean(), inplace=True)"
   ]
  },
  {
   "cell_type": "code",
   "execution_count": 69,
   "metadata": {
    "collapsed": false
   },
   "outputs": [
    {
     "name": "stdout",
     "output_type": "stream",
     "text": [
      "<class 'pandas.core.frame.DataFrame'>\n",
      "Int64Index: 10000 entries, 0 to 9999\n",
      "Data columns (total 6 columns):\n",
      "artist_familiarity    10000 non-null float64\n",
      "artist_hotttnesss     10000 non-null float64\n",
      "artist_id             10000 non-null object\n",
      "release               10000 non-null object\n",
      "release_7digitalid    10000 non-null int32\n",
      "song_id               10000 non-null object\n",
      "dtypes: float64(2), int32(1), object(3)\n",
      "memory usage: 507.8+ KB\n"
     ]
    }
   ],
   "source": [
    "metadata_df.info()"
   ]
  },
  {
   "cell_type": "code",
   "execution_count": 70,
   "metadata": {
    "collapsed": false
   },
   "outputs": [
    {
     "name": "stdout",
     "output_type": "stream",
     "text": [
      "artist_familiarity: min = 0.0, max = 1.0\n",
      "artist_hotttnesss: min = 0.0, max = 1.0825025567261237\n",
      "artist_id: min = AR009211187B989185, max = ARZZRK91187B9A5CA5\n",
      "release: min =  Lazy Afternoon En Anglais, max = Überfall\n",
      "release_7digitalid: min = 63, max = 823599\n",
      "song_id: min = SOAAAQN12AB01856D3, max = SOZZWWW12A58A8146A\n"
     ]
    }
   ],
   "source": [
    "for i in metadata_df.columns:\n",
    "    print(\"{0}: min = {1}, max = {2}\".format(i, metadata_df[i].min(), metadata_df[i].max()))"
   ]
  },
  {
   "cell_type": "code",
   "execution_count": 71,
   "metadata": {
    "collapsed": true
   },
   "outputs": [],
   "source": [
    "del metadata_df[\"release\"]"
   ]
  },
  {
   "cell_type": "code",
   "execution_count": 72,
   "metadata": {
    "collapsed": false
   },
   "outputs": [
    {
     "name": "stdout",
     "output_type": "stream",
     "text": [
      "<class 'pandas.core.frame.DataFrame'>\n",
      "Int64Index: 10000 entries, 0 to 9999\n",
      "Data columns (total 10 columns):\n",
      "duration                     10000 non-null float64\n",
      "end_of_fade_in               10000 non-null float64\n",
      "key                          10000 non-null int32\n",
      "key_confidence               10000 non-null float64\n",
      "mode_confidence              10000 non-null float64\n",
      "start_of_fade_out            10000 non-null float64\n",
      "tempo                        10000 non-null float64\n",
      "time_signature               10000 non-null int32\n",
      "time_signature_confidence    10000 non-null float64\n",
      "track_id                     10000 non-null object\n",
      "dtypes: float64(7), int32(2), object(1)\n",
      "memory usage: 781.2+ KB\n"
     ]
    }
   ],
   "source": [
    "df.info()"
   ]
  },
  {
   "cell_type": "code",
   "execution_count": 73,
   "metadata": {
    "collapsed": false
   },
   "outputs": [
    {
     "name": "stdout",
     "output_type": "stream",
     "text": [
      "<class 'pandas.core.frame.DataFrame'>\n",
      "Int64Index: 10000 entries, 0 to 9999\n",
      "Data columns (total 5 columns):\n",
      "artist_familiarity    10000 non-null float64\n",
      "artist_hotttnesss     10000 non-null float64\n",
      "artist_id             10000 non-null object\n",
      "release_7digitalid    10000 non-null int32\n",
      "song_id               10000 non-null object\n",
      "dtypes: float64(2), int32(1), object(2)\n",
      "memory usage: 429.7+ KB\n"
     ]
    }
   ],
   "source": [
    "metadata_df.info()"
   ]
  },
  {
   "cell_type": "code",
   "execution_count": 74,
   "metadata": {
    "collapsed": true
   },
   "outputs": [],
   "source": [
    "del metadata_df[\"release_7digitalid\"]"
   ]
  },
  {
   "cell_type": "code",
   "execution_count": null,
   "metadata": {
    "collapsed": true
   },
   "outputs": [],
   "source": []
  }
 ],
 "metadata": {
  "kernelspec": {
   "display_name": "Python 3",
   "language": "python",
   "name": "python3"
  },
  "language_info": {
   "codemirror_mode": {
    "name": "ipython",
    "version": 3
   },
   "file_extension": ".py",
   "mimetype": "text/x-python",
   "name": "python",
   "nbconvert_exporter": "python",
   "pygments_lexer": "ipython3",
   "version": "3.5.1"
  }
 },
 "nbformat": 4,
 "nbformat_minor": 0
}
