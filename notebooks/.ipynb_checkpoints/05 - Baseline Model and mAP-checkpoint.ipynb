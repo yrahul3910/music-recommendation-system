{
 "cells": [
  {
   "cell_type": "code",
   "execution_count": 1,
   "metadata": {
    "collapsed": true
   },
   "outputs": [],
   "source": [
    "import pandas as pd\n",
    "import os"
   ]
  },
  {
   "cell_type": "code",
   "execution_count": 2,
   "metadata": {
    "collapsed": true
   },
   "outputs": [],
   "source": [
    "import numpy as np"
   ]
  },
  {
   "cell_type": "code",
   "execution_count": 60,
   "metadata": {
    "collapsed": true
   },
   "outputs": [],
   "source": [
    "def precision_at_k(k: int, y: list, u: int, M: list) -> float:\n",
    "    \"\"\"\n",
    "    Gets the value of P_k.\n",
    "    \n",
    "    parameters:\n",
    "        k: The value of k to compute P_k\n",
    "        y: A ranking over items, y(j) = i indicates that item i is ranked at position j\n",
    "        u: The index of the user in the user_to_integer_mapping\n",
    "        M: The users-by-items feedback matrix\n",
    "    \n",
    "    returns:\n",
    "        P_k: The value of P_k.\n",
    "    \"\"\"\n",
    "    running_sum = 0\n",
    "    for j in range(k):\n",
    "        running_sum += M[u][y[j]]\n",
    "    return running_sum / k"
   ]
  },
  {
   "cell_type": "code",
   "execution_count": 62,
   "metadata": {
    "collapsed": true
   },
   "outputs": [],
   "source": [
    "def AP(u: int, y: list, tau: int, M: list) -> float:\n",
    "    \"\"\"\n",
    "    Gets the average precision value for given tau (in our example, tau = 500, and we'll use that in mAP).\n",
    "    \n",
    "    parameters:\n",
    "        u: The index of the user in the user_to_integer_mapping\n",
    "        y: A ranking over items, y(j) = i indicates that item i is ranked at position j\n",
    "        tau: The threshold to evaluate the top portion of the predicted rankings\n",
    "        M: The users-by-items feedback matrix\n",
    "    \n",
    "    returns:\n",
    "        The AP value.\n",
    "    \"\"\"\n",
    "    np = positive(u)  # number of positively associated songs for user u\n",
    "    running_sum = 0\n",
    "    for k in range(tau):\n",
    "        running_sum += precision_at_k(k, y, u, M) * M[u][y[k]]\n",
    "    return running_sum / np"
   ]
  },
  {
   "cell_type": "code",
   "execution_count": 63,
   "metadata": {
    "collapsed": true
   },
   "outputs": [],
   "source": [
    "def mAP(users: list, y: list, M: list) -> float:\n",
    "    \"\"\"\n",
    "    Gets the mean average precision values\n",
    "    \n",
    "    parameters:\n",
    "        users: The list of indices of all users in the mapping\n",
    "        y: A ranking over items, y(j) = i indicates that item i is ranked at position j\n",
    "        M: The users-by-items feedback matrix\n",
    "    \"\"\"\n",
    "    running_sum = 0\n",
    "    for u in users:\n",
    "        running_sum += AP(u, y, 500, M)\n",
    "    return running_sum / len(users)"
   ]
  },
  {
   "cell_type": "markdown",
   "metadata": {},
   "source": [
    "We have a simple implementation of mAP. We now need:\n",
    "* A way to map the string users to integers (these could be random)\n",
    "* An implementation of `positive` to get the number of songs in the hidden file for user `u`"
   ]
  },
  {
   "cell_type": "code",
   "execution_count": 11,
   "metadata": {
    "collapsed": true
   },
   "outputs": [],
   "source": [
    "user_to_integer_mapping = []"
   ]
  },
  {
   "cell_type": "code",
   "execution_count": 38,
   "metadata": {
    "collapsed": true
   },
   "outputs": [],
   "source": [
    "def build_user_to_integer_map():\n",
    "    hidden_file_path = os.path.join(os.path.pardir, \"data\", \"evaluation\", \"year1_test_triplets_hidden.txt\")\n",
    "    hidden_df = pd.read_csv(hidden_file_path, header=None, sep=\"\\t\")\n",
    "    \n",
    "    unique_users = hidden_df[0].unique()\n",
    "    for i, user in enumerate(unique_users):\n",
    "        user_to_integer_mapping.append((user, i))"
   ]
  },
  {
   "cell_type": "code",
   "execution_count": 39,
   "metadata": {
    "collapsed": false
   },
   "outputs": [],
   "source": [
    "build_user_to_integer_map()"
   ]
  },
  {
   "cell_type": "code",
   "execution_count": 42,
   "metadata": {
    "collapsed": false
   },
   "outputs": [
    {
     "data": {
      "text/plain": [
       "[('00007a02388c208ea7176479f6ae06f8224355b3', 0),\n",
       " ('00014a76ed063e1a749171a253bca9d9a0ff1782', 1)]"
      ]
     },
     "execution_count": 42,
     "metadata": {},
     "output_type": "execute_result"
    }
   ],
   "source": [
    "user_to_integer_mapping[:2]"
   ]
  },
  {
   "cell_type": "code",
   "execution_count": 51,
   "metadata": {
    "collapsed": true
   },
   "outputs": [],
   "source": [
    "def positive(u: int):\n",
    "    user_id = user_to_integer_mapping[u][0]  # Because the tuples are organized from a 0-based index\n",
    "    hidden_file_path = os.path.join(os.path.pardir, \"data\", \"evaluation\", \"year1_test_triplets_hidden.txt\")\n",
    "    hidden_df = pd.read_csv(hidden_file_path, header=None, sep=\"\\t\")\n",
    "    \n",
    "    return len(hidden_df[hidden_df[0] == user_id])"
   ]
  },
  {
   "cell_type": "code",
   "execution_count": 52,
   "metadata": {
    "collapsed": false
   },
   "outputs": [
    {
     "data": {
      "text/plain": [
       "9"
      ]
     },
     "execution_count": 52,
     "metadata": {},
     "output_type": "execute_result"
    }
   ],
   "source": [
    "positive(0)"
   ]
  },
  {
   "cell_type": "markdown",
   "metadata": {},
   "source": [
    "So now we've implemented the functions we need. Let's now give it a sample 500 songs and check for a few cases the mAP values to make sure it works right."
   ]
  },
  {
   "cell_type": "markdown",
   "metadata": {},
   "source": [
    "The first case is where we give the exact order for the songs for the first user, and the rest of the songs can be random. This should get us a score of 1.0"
   ]
  },
  {
   "cell_type": "code",
   "execution_count": 68,
   "metadata": {
    "collapsed": true
   },
   "outputs": [],
   "source": [
    "hidden_df = None"
   ]
  },
  {
   "cell_type": "code",
   "execution_count": 81,
   "metadata": {
    "collapsed": false
   },
   "outputs": [
    {
     "name": "stdout",
     "output_type": "stream",
     "text": [
      "                                                0                   1   2\n",
      "0        00007a02388c208ea7176479f6ae06f8224355b3  SOOFKYO12AF72A2640   1\n",
      "1        00007a02388c208ea7176479f6ae06f8224355b3  SOIHOIQ12A8C138593   2\n",
      "2        00007a02388c208ea7176479f6ae06f8224355b3  SOYIZSN12A6701E0BB   3\n",
      "3        00007a02388c208ea7176479f6ae06f8224355b3  SODYZAD12A58A7A525   1\n",
      "4        00007a02388c208ea7176479f6ae06f8224355b3  SOXLWPN12A8C143667   1\n",
      "5        00007a02388c208ea7176479f6ae06f8224355b3  SOOHJTL12AB0185497   1\n",
      "6        00007a02388c208ea7176479f6ae06f8224355b3  SOAHLGV12AF72A6DFC   1\n",
      "7        00007a02388c208ea7176479f6ae06f8224355b3  SOHDPUQ12A6701FB97   1\n",
      "8        00007a02388c208ea7176479f6ae06f8224355b3  SOPCYXP12A58A75EB1   1\n",
      "9        00014a76ed063e1a749171a253bca9d9a0ff1782  SOTRMSR12A8C132CBE   1\n",
      "10       00014a76ed063e1a749171a253bca9d9a0ff1782  SOHYHMJ12A6D4F615E   1\n",
      "11       00014a76ed063e1a749171a253bca9d9a0ff1782  SOXTRHS12A6D4F992C   1\n",
      "12       00014a76ed063e1a749171a253bca9d9a0ff1782  SOFFEHX12A8AE464F3   1\n",
      "13       00014a76ed063e1a749171a253bca9d9a0ff1782  SORSRBZ12A6D4FA117   1\n",
      "14       00014a76ed063e1a749171a253bca9d9a0ff1782  SOJAHNT12A58A804AB  10\n",
      "15       00014a76ed063e1a749171a253bca9d9a0ff1782  SOXJYJM12A6310D7C1   2\n",
      "16       00014a76ed063e1a749171a253bca9d9a0ff1782  SOQHUVM12A6D4F8646  22\n",
      "17       00014a76ed063e1a749171a253bca9d9a0ff1782  SOPUCYA12A8C13A694   1\n",
      "18       00014a76ed063e1a749171a253bca9d9a0ff1782  SOXNPQO12AB017C1C0   3\n",
      "19       00014a76ed063e1a749171a253bca9d9a0ff1782  SONNHSO12A58A7D273   5\n",
      "20       00014a76ed063e1a749171a253bca9d9a0ff1782  SOEFKHH12A58A7BB6A   5\n",
      "21       00015189668691680bb1a2e58afde1541ec92ced  SOUAHCK12A8C13C9E0   1\n",
      "22       00015189668691680bb1a2e58afde1541ec92ced  SOJJTAG12A81C23421   1\n",
      "23       00015189668691680bb1a2e58afde1541ec92ced  SOLJYFD12AB0185347   3\n",
      "24       00015189668691680bb1a2e58afde1541ec92ced  SOCNMUH12A6D4F6E6D   1\n",
      "25       00015189668691680bb1a2e58afde1541ec92ced  SOFRQTD12A81C233C0   1\n",
      "26       00015189668691680bb1a2e58afde1541ec92ced  SOAXGDH12A8C13F8A1   5\n",
      "27       00015189668691680bb1a2e58afde1541ec92ced  SOFWMNN12A8C13C3F2   9\n",
      "28       00015189668691680bb1a2e58afde1541ec92ced  SOBNQBQ12A6D4FB17C   2\n",
      "29       00015189668691680bb1a2e58afde1541ec92ced  SOJEVHC12A8C13C3E5   9\n",
      "...                                           ...                 ...  ..\n",
      "1368400  fffe5b73c50c72ca9c54947efac1fcacf59c4a17  SOATPFD12A8C136B88  14\n",
      "1368401  fffe5b73c50c72ca9c54947efac1fcacf59c4a17  SOZQOLR12A8C136B84  12\n",
      "1368402  fffe5b73c50c72ca9c54947efac1fcacf59c4a17  SOVQQJO12AB0182328   2\n",
      "1368403  fffed0bee753cd78494011b8b55dafd4f5c7e5ff  SOQJJUV12AF72A3D3F   3\n",
      "1368404  fffed0bee753cd78494011b8b55dafd4f5c7e5ff  SOOLKSV12AAA8C6B2A   1\n",
      "1368405  fffed0bee753cd78494011b8b55dafd4f5c7e5ff  SOOHOAE12AF729D88B   1\n",
      "1368406  fffed0bee753cd78494011b8b55dafd4f5c7e5ff  SOPAYPV12AB017DB0C  16\n",
      "1368407  fffed0bee753cd78494011b8b55dafd4f5c7e5ff  SOQANUA12AAF3B4628   5\n",
      "1368408  fffed0bee753cd78494011b8b55dafd4f5c7e5ff  SONETQG12AF72A16FF   2\n",
      "1368409  fffed0bee753cd78494011b8b55dafd4f5c7e5ff  SONKALC12AF72A25C9   4\n",
      "1368410  fffed0bee753cd78494011b8b55dafd4f5c7e5ff  SODLHCF12A8C13C2DA   5\n",
      "1368411  fffed0bee753cd78494011b8b55dafd4f5c7e5ff  SOUDDRH12AB0180504   2\n",
      "1368412  fffed0bee753cd78494011b8b55dafd4f5c7e5ff  SOUXYMG12AF72A494B   7\n",
      "1368413  fffed0bee753cd78494011b8b55dafd4f5c7e5ff  SOPLNED12A6D4F8039   5\n",
      "1368414  fffed0bee753cd78494011b8b55dafd4f5c7e5ff  SOUWZPO12A6D4F83E3   7\n",
      "1368415  fffed0bee753cd78494011b8b55dafd4f5c7e5ff  SODOXQU12A8C139780   1\n",
      "1368416  ffff07d7d9bb187aa58c7b81b3d3f35e7cf7c0ee  SOYJKAO12AF72A5780   5\n",
      "1368417  ffff07d7d9bb187aa58c7b81b3d3f35e7cf7c0ee  SOYKDAH12AB01806FF   1\n",
      "1368418  ffff07d7d9bb187aa58c7b81b3d3f35e7cf7c0ee  SOAOUZJ12A8C13949B   1\n",
      "1368419  ffff07d7d9bb187aa58c7b81b3d3f35e7cf7c0ee  SOGMPJO12A8C13F7ED   2\n",
      "1368420  ffff07d7d9bb187aa58c7b81b3d3f35e7cf7c0ee  SOYROON12A8C13FC4E   1\n",
      "1368421  ffff07d7d9bb187aa58c7b81b3d3f35e7cf7c0ee  SOTCMDJ12A6D4F8528   1\n",
      "1368422  ffff07d7d9bb187aa58c7b81b3d3f35e7cf7c0ee  SOOHVCD12A8C1330FF   5\n",
      "1368423  ffff07d7d9bb187aa58c7b81b3d3f35e7cf7c0ee  SOGDDKJ12A8C13F470   1\n",
      "1368424  ffff07d7d9bb187aa58c7b81b3d3f35e7cf7c0ee  SOORPXN12A58A7771C   1\n",
      "1368425  ffff07d7d9bb187aa58c7b81b3d3f35e7cf7c0ee  SOETHAV12AB0183107   1\n",
      "1368426  ffff07d7d9bb187aa58c7b81b3d3f35e7cf7c0ee  SONPDVJ12A67ADA231   1\n",
      "1368427  ffff07d7d9bb187aa58c7b81b3d3f35e7cf7c0ee  SOKAESA12A8C1410A1   1\n",
      "1368428  ffff07d7d9bb187aa58c7b81b3d3f35e7cf7c0ee  SOPQLBY12A6310E992   1\n",
      "1368429  ffff07d7d9bb187aa58c7b81b3d3f35e7cf7c0ee  SOHEROV12A8C13A430   1\n",
      "\n",
      "[1368430 rows x 3 columns]\n"
     ]
    }
   ],
   "source": [
    "hidden_file_path = os.path.join(os.path.pardir, \"data\", \"evaluation\", \"year1_test_triplets_hidden.txt\")\n",
    "hidden_df = pd.read_csv(hidden_file_path, header=None, sep=\"\\t\")\n",
    "print(hidden_df)"
   ]
  },
  {
   "cell_type": "code",
   "execution_count": 114,
   "metadata": {
    "collapsed": true
   },
   "outputs": [],
   "source": [
    "def alternate_AP(u: int, predictions: list) -> float:\n",
    "    \"\"\"\n",
    "    Gets the AP value\n",
    "    \n",
    "    parameters:\n",
    "        u: The index of the user in the user_to_integer_mapping\n",
    "        predictions: List of song ID strings in order\n",
    "    \"\"\"\n",
    "    total_songs = positive(u)\n",
    "    running_sum = 0\n",
    "    \n",
    "    songs_for_user = list(hidden_df[hidden_df[0] == user_to_integer_mapping[u][0]][1])\n",
    "\n",
    "    for i in range(total_songs):\n",
    "        try:\n",
    "            pred_ith_song_index = predictions.index(songs_for_user[i])\n",
    "            running_sum += ((i + 1) / (pred_ith_song_index + 1))\n",
    "        except:\n",
    "            pass\n",
    "    return running_sum / total_songs"
   ]
  },
  {
   "cell_type": "code",
   "execution_count": 83,
   "metadata": {
    "collapsed": true
   },
   "outputs": [],
   "source": [
    "def alternate_mAP(predictions: list) -> float:\n",
    "    running_sum = 0\n",
    "    for i in range(len(user_to_integer_mapping)):\n",
    "        print(\"Processing user \" + str(i))\n",
    "        running_sum += alternate_AP(i, predictions)\n",
    "    return running_sum / len(user_to_integer_mapping)"
   ]
  },
  {
   "cell_type": "markdown",
   "metadata": {},
   "source": [
    "## Test Case 1"
   ]
  },
  {
   "cell_type": "code",
   "execution_count": 57,
   "metadata": {
    "collapsed": false
   },
   "outputs": [],
   "source": [
    "hidden_file_path = os.path.join(os.path.pardir, \"data\", \"evaluation\", \"year1_test_triplets_hidden.txt\")\n",
    "hidden_df = pd.read_csv(hidden_file_path, header=None, sep=\"\\t\")\n",
    "first_songs = list(hidden_df[hidden_df[0] == user_to_integer_mapping[0][0]][1])\n",
    "\n",
    "for i in range(492):\n",
    "    first_songs.append(\"kjslfks\")"
   ]
  },
  {
   "cell_type": "code",
   "execution_count": 59,
   "metadata": {
    "collapsed": false
   },
   "outputs": [
    {
     "data": {
      "text/plain": [
       "['SOOFKYO12AF72A2640',\n",
       " 'SOIHOIQ12A8C138593',\n",
       " 'SOYIZSN12A6701E0BB',\n",
       " 'SODYZAD12A58A7A525',\n",
       " 'SOXLWPN12A8C143667',\n",
       " 'SOOHJTL12AB0185497',\n",
       " 'SOAHLGV12AF72A6DFC',\n",
       " 'SOHDPUQ12A6701FB97',\n",
       " 'SOPCYXP12A58A75EB1',\n",
       " 'kjslfks']"
      ]
     },
     "execution_count": 59,
     "metadata": {},
     "output_type": "execute_result"
    }
   ],
   "source": [
    "first_songs[:10]"
   ]
  },
  {
   "cell_type": "code",
   "execution_count": 116,
   "metadata": {
    "collapsed": false
   },
   "outputs": [
    {
     "data": {
      "text/plain": [
       "1.0"
      ]
     },
     "execution_count": 116,
     "metadata": {},
     "output_type": "execute_result"
    }
   ],
   "source": [
    "alternate_AP(0, first_songs)"
   ]
  },
  {
   "cell_type": "markdown",
   "metadata": {},
   "source": [
    "This is the expected value for this case. Now let's try the next case."
   ]
  },
  {
   "cell_type": "markdown",
   "metadata": {},
   "source": [
    "## Test Case 2"
   ]
  },
  {
   "cell_type": "code",
   "execution_count": 112,
   "metadata": {
    "collapsed": false
   },
   "outputs": [
    {
     "data": {
      "text/plain": [
       "['kjslfks',\n",
       " 'kjslfks',\n",
       " 'SOOFKYO12AF72A2640',\n",
       " 'SOIHOIQ12A8C138593',\n",
       " 'SOYIZSN12A6701E0BB',\n",
       " 'SODYZAD12A58A7A525',\n",
       " 'SOXLWPN12A8C143667',\n",
       " 'SOOHJTL12AB0185497',\n",
       " 'SOAHLGV12AF72A6DFC',\n",
       " 'SOHDPUQ12A6701FB97',\n",
       " 'SOPCYXP12A58A75EB1']"
      ]
     },
     "execution_count": 112,
     "metadata": {},
     "output_type": "execute_result"
    }
   ],
   "source": [
    "rotated_song_list = first_songs[9:] + first_songs[:9]\n",
    "rotated_song_list[490:]"
   ]
  },
  {
   "cell_type": "code",
   "execution_count": 115,
   "metadata": {
    "collapsed": false
   },
   "outputs": [
    {
     "data": {
      "text/plain": [
       "0.010033642851571899"
      ]
     },
     "execution_count": 115,
     "metadata": {},
     "output_type": "execute_result"
    }
   ],
   "source": [
    "alternate_AP(0, rotated_song_list)"
   ]
  },
  {
   "cell_type": "markdown",
   "metadata": {},
   "source": [
    "This is also correct, implying that our implementation of `alternate_AP` is right, and thus, so is `alternate_mAP`. We can now use this to evaluate future predictions. One next step is to try and reduce the time it takes."
   ]
  },
  {
   "cell_type": "code",
   "execution_count": null,
   "metadata": {
    "collapsed": true
   },
   "outputs": [],
   "source": []
  }
 ],
 "metadata": {
  "kernelspec": {
   "display_name": "Python 3",
   "language": "python",
   "name": "python3"
  },
  "language_info": {
   "codemirror_mode": {
    "name": "ipython",
    "version": 3
   },
   "file_extension": ".py",
   "mimetype": "text/x-python",
   "name": "python",
   "nbconvert_exporter": "python",
   "pygments_lexer": "ipython3",
   "version": "3.5.1"
  }
 },
 "nbformat": 4,
 "nbformat_minor": 0
}
